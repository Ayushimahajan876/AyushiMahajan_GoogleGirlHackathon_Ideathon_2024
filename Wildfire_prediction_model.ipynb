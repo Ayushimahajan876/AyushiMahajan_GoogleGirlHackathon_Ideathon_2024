{
  "nbformat": 4,
  "nbformat_minor": 0,
  "metadata": {
    "colab": {
      "provenance": [],
      "mount_file_id": "1VQe4HIU1vmE4h_OhI6X_ndhoOLJzu1Ht",
      "authorship_tag": "ABX9TyOln2ePGmvkt51yPn0h3Ab7",
      "include_colab_link": true
    },
    "kernelspec": {
      "name": "python3",
      "display_name": "Python 3"
    },
    "language_info": {
      "name": "python"
    }
  },
  "cells": [
    {
      "cell_type": "markdown",
      "metadata": {
        "id": "view-in-github",
        "colab_type": "text"
      },
      "source": [
        "<a href=\"https://colab.research.google.com/github/Ayushimahajan876/AyushiMahajan_GoogleGirlHackathon_Ideathon_2024/blob/main/Wildfire_prediction_model.ipynb\" target=\"_parent\"><img src=\"https://colab.research.google.com/assets/colab-badge.svg\" alt=\"Open In Colab\"/></a>"
      ]
    },
    {
      "cell_type": "code",
      "source": [
        "!pip install tensorflow seaborn matplotlib pandas opencv-python numpy Pillow"
      ],
      "metadata": {
        "colab": {
          "base_uri": "https://localhost:8080/"
        },
        "id": "ZNQF1tUkc2U3",
        "outputId": "5a2895bf-eb0d-490a-f31a-5fd8a45d944e"
      },
      "execution_count": 6,
      "outputs": [
        {
          "output_type": "stream",
          "name": "stdout",
          "text": [
            "Requirement already satisfied: tensorflow in /usr/local/lib/python3.10/dist-packages (2.15.0)\n",
            "Requirement already satisfied: seaborn in /usr/local/lib/python3.10/dist-packages (0.13.1)\n",
            "Requirement already satisfied: matplotlib in /usr/local/lib/python3.10/dist-packages (3.7.1)\n",
            "Requirement already satisfied: pandas in /usr/local/lib/python3.10/dist-packages (2.0.3)\n",
            "Requirement already satisfied: opencv-python in /usr/local/lib/python3.10/dist-packages (4.8.0.76)\n",
            "Requirement already satisfied: numpy in /usr/local/lib/python3.10/dist-packages (1.25.2)\n",
            "Requirement already satisfied: Pillow in /usr/local/lib/python3.10/dist-packages (9.4.0)\n",
            "Requirement already satisfied: absl-py>=1.0.0 in /usr/local/lib/python3.10/dist-packages (from tensorflow) (1.4.0)\n",
            "Requirement already satisfied: astunparse>=1.6.0 in /usr/local/lib/python3.10/dist-packages (from tensorflow) (1.6.3)\n",
            "Requirement already satisfied: flatbuffers>=23.5.26 in /usr/local/lib/python3.10/dist-packages (from tensorflow) (24.3.25)\n",
            "Requirement already satisfied: gast!=0.5.0,!=0.5.1,!=0.5.2,>=0.2.1 in /usr/local/lib/python3.10/dist-packages (from tensorflow) (0.5.4)\n",
            "Requirement already satisfied: google-pasta>=0.1.1 in /usr/local/lib/python3.10/dist-packages (from tensorflow) (0.2.0)\n",
            "Requirement already satisfied: h5py>=2.9.0 in /usr/local/lib/python3.10/dist-packages (from tensorflow) (3.9.0)\n",
            "Requirement already satisfied: libclang>=13.0.0 in /usr/local/lib/python3.10/dist-packages (from tensorflow) (18.1.1)\n",
            "Requirement already satisfied: ml-dtypes~=0.2.0 in /usr/local/lib/python3.10/dist-packages (from tensorflow) (0.2.0)\n",
            "Requirement already satisfied: opt-einsum>=2.3.2 in /usr/local/lib/python3.10/dist-packages (from tensorflow) (3.3.0)\n",
            "Requirement already satisfied: packaging in /usr/local/lib/python3.10/dist-packages (from tensorflow) (24.0)\n",
            "Requirement already satisfied: protobuf!=4.21.0,!=4.21.1,!=4.21.2,!=4.21.3,!=4.21.4,!=4.21.5,<5.0.0dev,>=3.20.3 in /usr/local/lib/python3.10/dist-packages (from tensorflow) (3.20.3)\n",
            "Requirement already satisfied: setuptools in /usr/local/lib/python3.10/dist-packages (from tensorflow) (67.7.2)\n",
            "Requirement already satisfied: six>=1.12.0 in /usr/local/lib/python3.10/dist-packages (from tensorflow) (1.16.0)\n",
            "Requirement already satisfied: termcolor>=1.1.0 in /usr/local/lib/python3.10/dist-packages (from tensorflow) (2.4.0)\n",
            "Requirement already satisfied: typing-extensions>=3.6.6 in /usr/local/lib/python3.10/dist-packages (from tensorflow) (4.11.0)\n",
            "Requirement already satisfied: wrapt<1.15,>=1.11.0 in /usr/local/lib/python3.10/dist-packages (from tensorflow) (1.14.1)\n",
            "Requirement already satisfied: tensorflow-io-gcs-filesystem>=0.23.1 in /usr/local/lib/python3.10/dist-packages (from tensorflow) (0.36.0)\n",
            "Requirement already satisfied: grpcio<2.0,>=1.24.3 in /usr/local/lib/python3.10/dist-packages (from tensorflow) (1.62.1)\n",
            "Requirement already satisfied: tensorboard<2.16,>=2.15 in /usr/local/lib/python3.10/dist-packages (from tensorflow) (2.15.2)\n",
            "Requirement already satisfied: tensorflow-estimator<2.16,>=2.15.0 in /usr/local/lib/python3.10/dist-packages (from tensorflow) (2.15.0)\n",
            "Requirement already satisfied: keras<2.16,>=2.15.0 in /usr/local/lib/python3.10/dist-packages (from tensorflow) (2.15.0)\n",
            "Requirement already satisfied: contourpy>=1.0.1 in /usr/local/lib/python3.10/dist-packages (from matplotlib) (1.2.1)\n",
            "Requirement already satisfied: cycler>=0.10 in /usr/local/lib/python3.10/dist-packages (from matplotlib) (0.12.1)\n",
            "Requirement already satisfied: fonttools>=4.22.0 in /usr/local/lib/python3.10/dist-packages (from matplotlib) (4.51.0)\n",
            "Requirement already satisfied: kiwisolver>=1.0.1 in /usr/local/lib/python3.10/dist-packages (from matplotlib) (1.4.5)\n",
            "Requirement already satisfied: pyparsing>=2.3.1 in /usr/local/lib/python3.10/dist-packages (from matplotlib) (3.1.2)\n",
            "Requirement already satisfied: python-dateutil>=2.7 in /usr/local/lib/python3.10/dist-packages (from matplotlib) (2.8.2)\n",
            "Requirement already satisfied: pytz>=2020.1 in /usr/local/lib/python3.10/dist-packages (from pandas) (2023.4)\n",
            "Requirement already satisfied: tzdata>=2022.1 in /usr/local/lib/python3.10/dist-packages (from pandas) (2024.1)\n",
            "Requirement already satisfied: wheel<1.0,>=0.23.0 in /usr/local/lib/python3.10/dist-packages (from astunparse>=1.6.0->tensorflow) (0.43.0)\n",
            "Requirement already satisfied: google-auth<3,>=1.6.3 in /usr/local/lib/python3.10/dist-packages (from tensorboard<2.16,>=2.15->tensorflow) (2.27.0)\n",
            "Requirement already satisfied: google-auth-oauthlib<2,>=0.5 in /usr/local/lib/python3.10/dist-packages (from tensorboard<2.16,>=2.15->tensorflow) (1.2.0)\n",
            "Requirement already satisfied: markdown>=2.6.8 in /usr/local/lib/python3.10/dist-packages (from tensorboard<2.16,>=2.15->tensorflow) (3.6)\n",
            "Requirement already satisfied: requests<3,>=2.21.0 in /usr/local/lib/python3.10/dist-packages (from tensorboard<2.16,>=2.15->tensorflow) (2.31.0)\n",
            "Requirement already satisfied: tensorboard-data-server<0.8.0,>=0.7.0 in /usr/local/lib/python3.10/dist-packages (from tensorboard<2.16,>=2.15->tensorflow) (0.7.2)\n",
            "Requirement already satisfied: werkzeug>=1.0.1 in /usr/local/lib/python3.10/dist-packages (from tensorboard<2.16,>=2.15->tensorflow) (3.0.2)\n",
            "Requirement already satisfied: cachetools<6.0,>=2.0.0 in /usr/local/lib/python3.10/dist-packages (from google-auth<3,>=1.6.3->tensorboard<2.16,>=2.15->tensorflow) (5.3.3)\n",
            "Requirement already satisfied: pyasn1-modules>=0.2.1 in /usr/local/lib/python3.10/dist-packages (from google-auth<3,>=1.6.3->tensorboard<2.16,>=2.15->tensorflow) (0.4.0)\n",
            "Requirement already satisfied: rsa<5,>=3.1.4 in /usr/local/lib/python3.10/dist-packages (from google-auth<3,>=1.6.3->tensorboard<2.16,>=2.15->tensorflow) (4.9)\n",
            "Requirement already satisfied: requests-oauthlib>=0.7.0 in /usr/local/lib/python3.10/dist-packages (from google-auth-oauthlib<2,>=0.5->tensorboard<2.16,>=2.15->tensorflow) (1.3.1)\n",
            "Requirement already satisfied: charset-normalizer<4,>=2 in /usr/local/lib/python3.10/dist-packages (from requests<3,>=2.21.0->tensorboard<2.16,>=2.15->tensorflow) (3.3.2)\n",
            "Requirement already satisfied: idna<4,>=2.5 in /usr/local/lib/python3.10/dist-packages (from requests<3,>=2.21.0->tensorboard<2.16,>=2.15->tensorflow) (3.7)\n",
            "Requirement already satisfied: urllib3<3,>=1.21.1 in /usr/local/lib/python3.10/dist-packages (from requests<3,>=2.21.0->tensorboard<2.16,>=2.15->tensorflow) (2.0.7)\n",
            "Requirement already satisfied: certifi>=2017.4.17 in /usr/local/lib/python3.10/dist-packages (from requests<3,>=2.21.0->tensorboard<2.16,>=2.15->tensorflow) (2024.2.2)\n",
            "Requirement already satisfied: MarkupSafe>=2.1.1 in /usr/local/lib/python3.10/dist-packages (from werkzeug>=1.0.1->tensorboard<2.16,>=2.15->tensorflow) (2.1.5)\n",
            "Requirement already satisfied: pyasn1<0.7.0,>=0.4.6 in /usr/local/lib/python3.10/dist-packages (from pyasn1-modules>=0.2.1->google-auth<3,>=1.6.3->tensorboard<2.16,>=2.15->tensorflow) (0.6.0)\n",
            "Requirement already satisfied: oauthlib>=3.0.0 in /usr/local/lib/python3.10/dist-packages (from requests-oauthlib>=0.7.0->google-auth-oauthlib<2,>=0.5->tensorboard<2.16,>=2.15->tensorflow) (3.2.2)\n",
            "['/usr/local/lib/python3.10/dist-packages/keras/api/_v2', '/usr/local/lib/python3.10/dist-packages/keras/_tf_keras', '/usr/local/lib/python3.10/dist-packages/tensorflow_estimator/python/estimator/api/_v2', '/usr/local/lib/python3.10/dist-packages/tensorboard/summary/_tf', '/usr/local/lib/python3.10/dist-packages/tensorflow', '/usr/local/lib/python3.10/dist-packages/tensorflow/_api/v2']\n"
          ]
        }
      ]
    },
    {
      "cell_type": "code",
      "source": [
        "from google.colab import drive\n",
        "drive.mount('/content/myDrive/')"
      ],
      "metadata": {
        "colab": {
          "base_uri": "https://localhost:8080/"
        },
        "id": "exkaJ1LfNVmq",
        "outputId": "edec9ae5-495d-47ae-aa6a-634069b6cf35"
      },
      "execution_count": 67,
      "outputs": [
        {
          "output_type": "stream",
          "name": "stdout",
          "text": [
            "Mounted at /content/myDrive/\n"
          ]
        }
      ]
    },
    {
      "cell_type": "code",
      "source": [],
      "metadata": {
        "id": "OW8AXs-t2fsX"
      },
      "execution_count": null,
      "outputs": []
    },
    {
      "cell_type": "code",
      "source": [
        "!ls /content/myDrive/MyDrive/valid\n"
      ],
      "metadata": {
        "colab": {
          "base_uri": "https://localhost:8080/"
        },
        "id": "gXl19_V84OPj",
        "outputId": "f986ddad-bf6c-402d-cc93-2bc2c1dd6598"
      },
      "execution_count": 68,
      "outputs": [
        {
          "output_type": "stream",
          "name": "stdout",
          "text": [
            "nowildfire  wildfire\n"
          ]
        }
      ]
    },
    {
      "cell_type": "code",
      "source": [],
      "metadata": {
        "id": "WL6CU5Uf2vRx"
      },
      "execution_count": null,
      "outputs": []
    },
    {
      "cell_type": "code",
      "source": [
        "import os\n",
        "import tensorflow as tf\n",
        "import datetime\n",
        "import seaborn as sns\n",
        "import matplotlib.pyplot as plt\n",
        "import pandas as pd\n",
        "import cv2\n",
        "import numpy as np\n",
        "from tensorflow.keras.preprocessing.image import ImageDataGenerator\n",
        "from tensorflow.keras.models import Sequential, Model, load_model\n",
        "from tensorflow.keras.layers import Input, Dense, Conv2D, MaxPool2D, BatchNormalization, GlobalAveragePooling2D\n",
        "from tensorflow.keras.callbacks import TensorBoard\n",
        "from PIL import ImageFile"
      ],
      "metadata": {
        "id": "76XJ65Ndd1Y-"
      },
      "execution_count": 69,
      "outputs": []
    },
    {
      "cell_type": "code",
      "source": [],
      "metadata": {
        "colab": {
          "base_uri": "https://localhost:8080/"
        },
        "id": "vdvadNOQ4jn7",
        "outputId": "801349c5-1d57-4776-f2bd-3ca51d133ff3"
      },
      "execution_count": 7,
      "outputs": [
        {
          "output_type": "stream",
          "name": "stdout",
          "text": [
            "['/usr/local/lib/python3.10/dist-packages/keras/api/_v2', '/usr/local/lib/python3.10/dist-packages/keras/_tf_keras', '/usr/local/lib/python3.10/dist-packages/tensorflow_estimator/python/estimator/api/_v2', '/usr/local/lib/python3.10/dist-packages/tensorboard/summary/_tf', '/usr/local/lib/python3.10/dist-packages/tensorflow', '/usr/local/lib/python3.10/dist-packages/tensorflow/_api/v2']\n"
          ]
        }
      ]
    },
    {
      "cell_type": "code",
      "source": [
        "# List physical devices\n",
        "for device in tf.config.list_physical_devices():\n",
        "    print(device.name)\n",
        "\n",
        "# Set TensorFlow version for Colab\n",
        "try:\n",
        "    get_ipython().run_line_magic('tensorflow_version', '2.x')\n",
        "except Exception:\n",
        "    pass\n",
        "\n",
        "# Ignore warnings\n",
        "import warnings\n",
        "warnings.filterwarnings(\"ignore\")\n",
        "\n",
        "# Allow truncated images to load\n",
        "ImageFile.LOAD_TRUNCATED_IMAGES = True"
      ],
      "metadata": {
        "colab": {
          "base_uri": "https://localhost:8080/"
        },
        "id": "AKckqzxfeRWl",
        "outputId": "24215924-cde7-4376-96c1-0a6c34e69663"
      },
      "execution_count": 70,
      "outputs": [
        {
          "output_type": "stream",
          "name": "stdout",
          "text": [
            "/physical_device:CPU:0\n",
            "Colab only includes TensorFlow 2.x; %tensorflow_version has no effect.\n"
          ]
        }
      ]
    },
    {
      "cell_type": "code",
      "source": [
        "#The below code is used for image preprocessing and model training to make each\n",
        "# Set image size for resizing\n",
        "\n",
        "im_size = 224\n",
        "\n",
        "#setting image size\n",
        "\n",
        "image_resize = (im_size, im_size, 3)\n",
        "\n",
        "# Set batch sizes\n",
        "batch_size_training = 100\n",
        "batch_size_test = 100\n",
        "batch_size_validation = 100\n",
        "\n",
        "# Set number of classes\n",
        "num_classes = 2"
      ],
      "metadata": {
        "id": "tZvHZrUEnhnb"
      },
      "execution_count": 71,
      "outputs": []
    },
    {
      "cell_type": "code",
      "source": [
        "#loading training,testing and validation dataset of images and visualizing each dataset through it's classes(wilfire and not wildfire)\n",
        "wildfire_train_path = \"/content/myDrive/MyDrive/train\"\n",
        "wildfire_valid_path = \"/content/myDrive/MyDrive/valid\"\n",
        "wildfire_test_path = \"/content/myDrive/MyDrive/test\""
      ],
      "metadata": {
        "id": "IOLaRZM9EKRz"
      },
      "execution_count": 72,
      "outputs": []
    },
    {
      "cell_type": "code",
      "source": [
        "#fixing the datatype of image to float32 and rescaling by dividing with 255(standard)\n",
        "data_generator = ImageDataGenerator(dtype='float32', rescale=1./255.)\n"
      ],
      "metadata": {
        "id": "7Fsk4NdFpk7S"
      },
      "execution_count": 42,
      "outputs": []
    },
    {
      "cell_type": "code",
      "source": [
        "wildfire_train_generator = data_generator.flow_from_directory(wildfire_train_path,\n",
        "                                                   batch_size = batch_size_training,\n",
        "                                                   target_size = (im_size, im_size),\n",
        "                                                   class_mode = 'categorical')\n",
        "\n",
        "wildfire_valid_generator = data_generator.flow_from_directory(wildfire_valid_path ,\n",
        "                                                   batch_size = batch_size_validation,\n",
        "                                                   target_size = (im_size, im_size),\n",
        "                                                   class_mode = 'categorical')\n",
        "\n",
        "wildfire_test_generator = data_generator.flow_from_directory(wildfire_test_path ,\n",
        "                                                   batch_size = batch_size_test,\n",
        "                                                   target_size = (im_size, im_size),\n",
        "                                                   class_mode = 'categorical')"
      ],
      "metadata": {
        "id": "JrIuDy52poK5",
        "colab": {
          "base_uri": "https://localhost:8080/"
        },
        "outputId": "e1231384-2199-4961-9ef7-e7f3f30f1b6b"
      },
      "execution_count": 73,
      "outputs": [
        {
          "output_type": "stream",
          "name": "stdout",
          "text": [
            "Found 30542 images belonging to 2 classes.\n",
            "Found 6313 images belonging to 2 classes.\n",
            "Found 6340 images belonging to 2 classes.\n"
          ]
        }
      ]
    },
    {
      "cell_type": "code",
      "source": [
        "#number of classes in our target it will give 0 and 1 since no-wildfire and wildfire are the only 2 conditions\n",
        "class_mapping = wildfire_train_generator.class_indices\n",
        "class_mapping"
      ],
      "metadata": {
        "id": "qxlgRGjOrV3-",
        "colab": {
          "base_uri": "https://localhost:8080/"
        },
        "outputId": "0447a225-90a8-429c-bdb2-e85a6397a81f"
      },
      "execution_count": 74,
      "outputs": [
        {
          "output_type": "execute_result",
          "data": {
            "text/plain": [
              "{'nowildfire': 0, 'wildfire': 1}"
            ]
          },
          "metadata": {},
          "execution_count": 74
        }
      ]
    },
    {
      "cell_type": "code",
      "source": [
        "#since the dataset is divided into batches the below code will give the first batch among all training datasets and it is ready to be fed on the model\n",
        "first_batch_train = wildfire_train_generator.next()\n",
        "first_batch_train"
      ],
      "metadata": {
        "id": "B8PBLmOargJm",
        "colab": {
          "base_uri": "https://localhost:8080/"
        },
        "outputId": "b875a5da-eb04-4afb-a63b-608b17a08182"
      },
      "execution_count": 45,
      "outputs": [
        {
          "output_type": "execute_result",
          "data": {
            "text/plain": [
              "(array([[[[0.20000002, 0.35686275, 0.21176472],\n",
              "          [0.12941177, 0.2784314 , 0.13333334],\n",
              "          [0.13333334, 0.28235295, 0.13725491],\n",
              "          ...,\n",
              "          [0.27450982, 0.40000004, 0.21568629],\n",
              "          [0.25882354, 0.38431376, 0.20000002],\n",
              "          [0.2509804 , 0.3803922 , 0.19607845]],\n",
              " \n",
              "         [[0.1254902 , 0.2627451 , 0.13725491],\n",
              "          [0.10588236, 0.24313727, 0.11764707],\n",
              "          [0.07450981, 0.21176472, 0.08627451],\n",
              "          ...,\n",
              "          [0.24705884, 0.36862746, 0.19607845],\n",
              "          [0.20784315, 0.32941177, 0.15686275],\n",
              "          [0.23137257, 0.3529412 , 0.18039216]],\n",
              " \n",
              "         [[0.04705883, 0.18431373, 0.06666667],\n",
              "          [0.1764706 , 0.3137255 , 0.19607845],\n",
              "          [0.14117648, 0.27058825, 0.15686275],\n",
              "          ...,\n",
              "          [0.24313727, 0.3647059 , 0.19215688],\n",
              "          [0.23137257, 0.3529412 , 0.18039216],\n",
              "          [0.23529413, 0.35686275, 0.18431373]],\n",
              " \n",
              "         ...,\n",
              " \n",
              "         [[0.41960788, 0.45882356, 0.32156864],\n",
              "          [0.43137258, 0.45882356, 0.3254902 ],\n",
              "          [0.43921572, 0.4666667 , 0.33333334],\n",
              "          ...,\n",
              "          [0.09803922, 0.27450982, 0.12156864],\n",
              "          [0.11764707, 0.29803923, 0.14509805],\n",
              "          [0.09019608, 0.27058825, 0.1254902 ]],\n",
              " \n",
              "         [[0.4156863 , 0.454902  , 0.31764707],\n",
              "          [0.43921572, 0.4666667 , 0.33333334],\n",
              "          [0.454902  , 0.48235297, 0.34901962],\n",
              "          ...,\n",
              "          [0.12156864, 0.3137255 , 0.13725491],\n",
              "          [0.14901961, 0.34117648, 0.16470589],\n",
              "          [0.10980393, 0.29411766, 0.12941177]],\n",
              " \n",
              "         [[0.43529415, 0.46274513, 0.32941177],\n",
              "          [0.45882356, 0.48627454, 0.3529412 ],\n",
              "          [0.4666667 , 0.49411768, 0.36078432],\n",
              "          ...,\n",
              "          [0.1764706 , 0.40000004, 0.19215688],\n",
              "          [0.1764706 , 0.38823533, 0.18431373],\n",
              "          [0.10196079, 0.29803923, 0.10588236]]],\n",
              " \n",
              " \n",
              "        [[[0.52156866, 0.43921572, 0.35686275],\n",
              "          [0.56078434, 0.4784314 , 0.39607847],\n",
              "          [0.5647059 , 0.48235297, 0.40000004],\n",
              "          ...,\n",
              "          [0.1254902 , 0.17254902, 0.15686275],\n",
              "          [0.1254902 , 0.17254902, 0.15686275],\n",
              "          [0.1254902 , 0.17254902, 0.15686275]],\n",
              " \n",
              "         [[0.5764706 , 0.5058824 , 0.41176474],\n",
              "          [0.5294118 , 0.45882356, 0.3647059 ],\n",
              "          [0.5176471 , 0.44705886, 0.3529412 ],\n",
              "          ...,\n",
              "          [0.12156864, 0.16862746, 0.15294118],\n",
              "          [0.12156864, 0.16862746, 0.15294118],\n",
              "          [0.12156864, 0.16862746, 0.15294118]],\n",
              " \n",
              "         [[0.52156866, 0.45098042, 0.35686275],\n",
              "          [0.5137255 , 0.4431373 , 0.34901962],\n",
              "          [0.49803925, 0.427451  , 0.33333334],\n",
              "          ...,\n",
              "          [0.1254902 , 0.17254902, 0.15686275],\n",
              "          [0.1254902 , 0.17254902, 0.15686275],\n",
              "          [0.1254902 , 0.17254902, 0.15686275]],\n",
              " \n",
              "         ...,\n",
              " \n",
              "         [[0.28627452, 0.3529412 , 0.3137255 ],\n",
              "          [0.4156863 , 0.48235297, 0.45098042],\n",
              "          [0.3372549 , 0.4039216 , 0.37254903],\n",
              "          ...,\n",
              "          [0.58431375, 0.52156866, 0.42352945],\n",
              "          [0.6313726 , 0.5686275 , 0.47058827],\n",
              "          [0.69803923, 0.627451  , 0.53333336]],\n",
              " \n",
              "         [[0.29803923, 0.37647063, 0.33333334],\n",
              "          [0.3921569 , 0.47058827, 0.427451  ],\n",
              "          [0.36078432, 0.43921572, 0.4039216 ],\n",
              "          ...,\n",
              "          [0.6627451 , 0.6       , 0.5019608 ],\n",
              "          [0.7019608 , 0.6392157 , 0.5411765 ],\n",
              "          [0.78823537, 0.7176471 , 0.62352943]],\n",
              " \n",
              "         [[0.21960786, 0.3137255 , 0.2509804 ],\n",
              "          [0.34117648, 0.427451  , 0.37647063],\n",
              "          [0.36078432, 0.44705886, 0.39607847],\n",
              "          ...,\n",
              "          [0.6431373 , 0.5803922 , 0.48235297],\n",
              "          [0.6666667 , 0.6039216 , 0.5058824 ],\n",
              "          [0.7686275 , 0.69803923, 0.6039216 ]]],\n",
              " \n",
              " \n",
              "        [[[0.01176471, 0.07058824, 0.05882353],\n",
              "          [0.        , 0.04313726, 0.02745098],\n",
              "          [0.        , 0.04313726, 0.01176471],\n",
              "          ...,\n",
              "          [0.        , 0.15294118, 0.03137255],\n",
              "          [0.00392157, 0.15686275, 0.03529412],\n",
              "          [0.02745098, 0.16862746, 0.05882353]],\n",
              " \n",
              "         [[0.00784314, 0.07450981, 0.0509804 ],\n",
              "          [0.        , 0.05882353, 0.02745098],\n",
              "          [0.01568628, 0.07843138, 0.03921569],\n",
              "          ...,\n",
              "          [0.0627451 , 0.21960786, 0.08627451],\n",
              "          [0.05882353, 0.21568629, 0.08235294],\n",
              "          [0.0627451 , 0.21568629, 0.09411766]],\n",
              " \n",
              "         [[0.        , 0.0627451 , 0.03921569],\n",
              "          [0.        , 0.0509804 , 0.01960784],\n",
              "          [0.        , 0.0627451 , 0.02352941],\n",
              "          ...,\n",
              "          [0.08627451, 0.24313727, 0.10980393],\n",
              "          [0.06666667, 0.22352943, 0.09019608],\n",
              "          [0.07450981, 0.23137257, 0.09803922]],\n",
              " \n",
              "         ...,\n",
              " \n",
              "         [[0.01176471, 0.0509804 , 0.04705883],\n",
              "          [0.02352941, 0.0627451 , 0.05882353],\n",
              "          [0.02745098, 0.06666667, 0.0627451 ],\n",
              "          ...,\n",
              "          [0.38431376, 0.43921572, 0.3803922 ],\n",
              "          [0.24705884, 0.3137255 , 0.2509804 ],\n",
              "          [0.09411766, 0.1764706 , 0.10980393]],\n",
              " \n",
              "         [[0.01960784, 0.06666667, 0.0509804 ],\n",
              "          [0.00392157, 0.0509804 , 0.03529412],\n",
              "          [0.01960784, 0.06666667, 0.0509804 ],\n",
              "          ...,\n",
              "          [0.3647059 , 0.41960788, 0.36078432],\n",
              "          [0.24313727, 0.30980393, 0.24705884],\n",
              "          [0.17254902, 0.24705884, 0.17254902]],\n",
              " \n",
              "         [[0.07450981, 0.14117648, 0.10196079],\n",
              "          [0.10588236, 0.16862746, 0.12941177],\n",
              "          [0.07058824, 0.13333334, 0.09411766],\n",
              "          ...,\n",
              "          [0.22352943, 0.27450982, 0.20784315],\n",
              "          [0.17254902, 0.227451  , 0.16078432],\n",
              "          [0.15686275, 0.20784315, 0.13725491]]],\n",
              " \n",
              " \n",
              "        ...,\n",
              " \n",
              " \n",
              "        [[[0.3019608 , 0.31764707, 0.32941177],\n",
              "          [0.24705884, 0.2627451 , 0.27450982],\n",
              "          [0.18823531, 0.20392159, 0.21568629],\n",
              "          ...,\n",
              "          [0.3137255 , 0.34509805, 0.28627452],\n",
              "          [0.35686275, 0.3921569 , 0.31764707],\n",
              "          [0.31764707, 0.35686275, 0.25882354]],\n",
              " \n",
              "         [[0.24705884, 0.2627451 , 0.27450982],\n",
              "          [0.34901962, 0.3647059 , 0.37647063],\n",
              "          [0.30980393, 0.3254902 , 0.3372549 ],\n",
              "          ...,\n",
              "          [0.39607847, 0.427451  , 0.37647063],\n",
              "          [0.36862746, 0.4039216 , 0.3372549 ],\n",
              "          [0.34117648, 0.3803922 , 0.28627452]],\n",
              " \n",
              "         [[0.25882354, 0.27450982, 0.28627452],\n",
              "          [0.32941177, 0.34509805, 0.35686275],\n",
              "          [0.27450982, 0.2901961 , 0.3019608 ],\n",
              "          ...,\n",
              "          [0.3921569 , 0.42352945, 0.3803922 ],\n",
              "          [0.36078432, 0.3921569 , 0.34117648],\n",
              "          [0.32156864, 0.35686275, 0.28235295]],\n",
              " \n",
              "         ...,\n",
              " \n",
              "         [[0.13333334, 0.227451  , 0.10196079],\n",
              "          [0.19215688, 0.28627452, 0.16078432],\n",
              "          [0.23137257, 0.3254902 , 0.20000002],\n",
              "          ...,\n",
              "          [0.23529413, 0.3372549 , 0.19215688],\n",
              "          [0.16078432, 0.2627451 , 0.11764707],\n",
              "          [0.17254902, 0.27450982, 0.12941177]],\n",
              " \n",
              "         [[0.17254902, 0.26666668, 0.14117648],\n",
              "          [0.20392159, 0.29803923, 0.17254902],\n",
              "          [0.23137257, 0.3254902 , 0.20000002],\n",
              "          ...,\n",
              "          [0.23137257, 0.33333334, 0.18823531],\n",
              "          [0.19607845, 0.29803923, 0.15294118],\n",
              "          [0.22352943, 0.3254902 , 0.18039216]],\n",
              " \n",
              "         [[0.16862746, 0.2627451 , 0.13725491],\n",
              "          [0.21176472, 0.30588236, 0.18039216],\n",
              "          [0.20784315, 0.3019608 , 0.1764706 ],\n",
              "          ...,\n",
              "          [0.2509804 , 0.3529412 , 0.20784315],\n",
              "          [0.24705884, 0.34901962, 0.20392159],\n",
              "          [0.2901961 , 0.3921569 , 0.24705884]]],\n",
              " \n",
              " \n",
              "        [[[0.04313726, 0.14117648, 0.01568628],\n",
              "          [0.0627451 , 0.19607845, 0.0509804 ],\n",
              "          [0.13333334, 0.28235295, 0.12156864],\n",
              "          ...,\n",
              "          [0.29803923, 0.13725491, 0.02745098],\n",
              "          [0.26666668, 0.10980393, 0.01176471],\n",
              "          [0.2901961 , 0.16078432, 0.10196079]],\n",
              " \n",
              "         [[0.20000002, 0.3019608 , 0.16470589],\n",
              "          [0.03137255, 0.16862746, 0.01176471],\n",
              "          [0.07450981, 0.227451  , 0.05490196],\n",
              "          ...,\n",
              "          [0.43921572, 0.26666668, 0.16078432],\n",
              "          [0.427451  , 0.2392157 , 0.14901961],\n",
              "          [0.37647063, 0.18823531, 0.13333334]],\n",
              " \n",
              "         [[0.21176472, 0.3137255 , 0.16862746],\n",
              "          [0.13333334, 0.27058825, 0.10588236],\n",
              "          [0.16470589, 0.32941177, 0.14901961],\n",
              "          ...,\n",
              "          [0.41176474, 0.2392157 , 0.14117648],\n",
              "          [0.427451  , 0.23137257, 0.14117648],\n",
              "          [0.43921572, 0.23137257, 0.16862746]],\n",
              " \n",
              "         ...,\n",
              " \n",
              "         [[0.18431373, 0.24313727, 0.1137255 ],\n",
              "          [0.17254902, 0.27058825, 0.14509805],\n",
              "          [0.15686275, 0.27450982, 0.14117648],\n",
              "          ...,\n",
              "          [0.43529415, 0.49411768, 0.2627451 ],\n",
              "          [0.40000004, 0.49411768, 0.26666668],\n",
              "          [0.23529413, 0.38431376, 0.16078432]],\n",
              " \n",
              "         [[0.2784314 , 0.34901962, 0.20000002],\n",
              "          [0.227451  , 0.3372549 , 0.18039216],\n",
              "          [0.18431373, 0.30980393, 0.15686275],\n",
              "          ...,\n",
              "          [0.3921569 , 0.44705886, 0.20784315],\n",
              "          [0.38431376, 0.46274513, 0.23137257],\n",
              "          [0.2627451 , 0.3921569 , 0.1764706 ]],\n",
              " \n",
              "         [[0.3254902 , 0.41176474, 0.23137257],\n",
              "          [0.3137255 , 0.427451  , 0.24705884],\n",
              "          [0.29803923, 0.427451  , 0.2509804 ],\n",
              "          ...,\n",
              "          [0.43529415, 0.47450984, 0.227451  ],\n",
              "          [0.37254903, 0.43529415, 0.19215688],\n",
              "          [0.15686275, 0.2627451 , 0.04705883]]],\n",
              " \n",
              " \n",
              "        [[[0.07058824, 0.19215688, 0.07058824],\n",
              "          [0.        , 0.1254902 , 0.00392157],\n",
              "          [0.01568628, 0.14509805, 0.02352941],\n",
              "          ...,\n",
              "          [0.20784315, 0.30980393, 0.16470589],\n",
              "          [0.21960786, 0.32156864, 0.1764706 ],\n",
              "          [0.18823531, 0.2901961 , 0.14509805]],\n",
              " \n",
              "         [[0.09803922, 0.21960786, 0.09803922],\n",
              "          [0.15294118, 0.27450982, 0.15294118],\n",
              "          [0.13725491, 0.25882354, 0.13725491],\n",
              "          ...,\n",
              "          [0.16078432, 0.2784314 , 0.12941177],\n",
              "          [0.18431373, 0.3019608 , 0.15294118],\n",
              "          [0.15294118, 0.27058825, 0.12156864]],\n",
              " \n",
              "         [[0.16862746, 0.2901961 , 0.16862746],\n",
              "          [0.14117648, 0.2627451 , 0.14117648],\n",
              "          [0.09019608, 0.21960786, 0.09803922],\n",
              "          ...,\n",
              "          [0.16862746, 0.29411766, 0.14117648],\n",
              "          [0.16470589, 0.3019608 , 0.14509805],\n",
              "          [0.14117648, 0.2784314 , 0.12156864]],\n",
              " \n",
              "         ...,\n",
              " \n",
              "         [[0.16470589, 0.2392157 , 0.12941177],\n",
              "          [0.10588236, 0.18039216, 0.07058824],\n",
              "          [0.16470589, 0.24313727, 0.13333334],\n",
              "          ...,\n",
              "          [0.06666667, 0.19607845, 0.08235294],\n",
              "          [0.0627451 , 0.20000002, 0.08235294],\n",
              "          [0.07450981, 0.21960786, 0.09803922]],\n",
              " \n",
              "         [[0.23137257, 0.3019608 , 0.20000002],\n",
              "          [0.13725491, 0.21568629, 0.10980393],\n",
              "          [0.22352943, 0.3019608 , 0.19607845],\n",
              "          ...,\n",
              "          [0.03921569, 0.16862746, 0.05490196],\n",
              "          [0.01960784, 0.15686275, 0.03921569],\n",
              "          [0.00392157, 0.14901961, 0.02745098]],\n",
              " \n",
              "         [[0.1764706 , 0.24705884, 0.15294118],\n",
              "          [0.22352943, 0.3019608 , 0.20392159],\n",
              "          [0.20784315, 0.29803923, 0.19607845],\n",
              "          ...,\n",
              "          [0.05882353, 0.18823531, 0.07450981],\n",
              "          [0.07843138, 0.21568629, 0.09803922],\n",
              "          [0.03921569, 0.18431373, 0.0627451 ]]]], dtype=float32),\n",
              " array([[0., 1.],\n",
              "        [1., 0.],\n",
              "        [1., 0.],\n",
              "        [1., 0.],\n",
              "        [0., 1.],\n",
              "        [0., 1.],\n",
              "        [0., 1.],\n",
              "        [0., 1.],\n",
              "        [1., 0.],\n",
              "        [1., 0.],\n",
              "        [0., 1.],\n",
              "        [1., 0.],\n",
              "        [1., 0.],\n",
              "        [0., 1.],\n",
              "        [1., 0.],\n",
              "        [0., 1.],\n",
              "        [0., 1.],\n",
              "        [0., 1.],\n",
              "        [1., 0.],\n",
              "        [1., 0.],\n",
              "        [1., 0.],\n",
              "        [0., 1.],\n",
              "        [0., 1.],\n",
              "        [0., 1.],\n",
              "        [0., 1.],\n",
              "        [1., 0.],\n",
              "        [0., 1.],\n",
              "        [0., 1.],\n",
              "        [0., 1.],\n",
              "        [1., 0.],\n",
              "        [0., 1.],\n",
              "        [1., 0.],\n",
              "        [0., 1.],\n",
              "        [1., 0.],\n",
              "        [1., 0.],\n",
              "        [0., 1.],\n",
              "        [1., 0.],\n",
              "        [1., 0.],\n",
              "        [0., 1.],\n",
              "        [0., 1.],\n",
              "        [1., 0.],\n",
              "        [1., 0.],\n",
              "        [1., 0.],\n",
              "        [0., 1.],\n",
              "        [1., 0.],\n",
              "        [0., 1.],\n",
              "        [0., 1.],\n",
              "        [1., 0.],\n",
              "        [0., 1.],\n",
              "        [0., 1.],\n",
              "        [0., 1.],\n",
              "        [0., 1.],\n",
              "        [0., 1.],\n",
              "        [0., 1.],\n",
              "        [0., 1.],\n",
              "        [0., 1.],\n",
              "        [1., 0.],\n",
              "        [0., 1.],\n",
              "        [0., 1.],\n",
              "        [0., 1.],\n",
              "        [1., 0.],\n",
              "        [0., 1.],\n",
              "        [0., 1.],\n",
              "        [1., 0.],\n",
              "        [0., 1.],\n",
              "        [0., 1.],\n",
              "        [0., 1.],\n",
              "        [1., 0.],\n",
              "        [0., 1.],\n",
              "        [0., 1.],\n",
              "        [1., 0.],\n",
              "        [1., 0.],\n",
              "        [1., 0.],\n",
              "        [1., 0.],\n",
              "        [0., 1.],\n",
              "        [1., 0.],\n",
              "        [0., 1.],\n",
              "        [0., 1.],\n",
              "        [0., 1.],\n",
              "        [1., 0.],\n",
              "        [1., 0.],\n",
              "        [0., 1.],\n",
              "        [0., 1.],\n",
              "        [0., 1.],\n",
              "        [0., 1.],\n",
              "        [0., 1.],\n",
              "        [1., 0.],\n",
              "        [0., 1.],\n",
              "        [1., 0.],\n",
              "        [0., 1.],\n",
              "        [0., 1.],\n",
              "        [0., 1.],\n",
              "        [1., 0.],\n",
              "        [1., 0.],\n",
              "        [0., 1.],\n",
              "        [1., 0.],\n",
              "        [1., 0.],\n",
              "        [0., 1.],\n",
              "        [0., 1.],\n",
              "        [0., 1.]], dtype=float32))"
            ]
          },
          "metadata": {},
          "execution_count": 45
        }
      ]
    },
    {
      "cell_type": "code",
      "source": [
        "#class names in training dataset\n",
        "wildfire_class_names = list(wildfire_train_generator.class_indices.keys())\n",
        "print(\"Class names :\",wildfire_class_names)"
      ],
      "metadata": {
        "id": "vqrBO2mCxpGB",
        "colab": {
          "base_uri": "https://localhost:8080/"
        },
        "outputId": "5c44a020-8e57-4aa5-9b4f-cf37391bb6e2"
      },
      "execution_count": 46,
      "outputs": [
        {
          "output_type": "stream",
          "name": "stdout",
          "text": [
            "Class names : ['nowildfire', 'wildfire']\n"
          ]
        }
      ]
    },
    {
      "cell_type": "code",
      "source": [
        "#class names in valid dataset\n",
        "wildfire_class_names_valid = list(wildfire_valid_generator.class_indices.keys())\n",
        "print(\"Class names :\",wildfire_class_names_valid)"
      ],
      "metadata": {
        "id": "bEGTa3Wr0oj8",
        "colab": {
          "base_uri": "https://localhost:8080/"
        },
        "outputId": "288fbaf9-f8bb-4126-d7f8-250308804e71"
      },
      "execution_count": 47,
      "outputs": [
        {
          "output_type": "stream",
          "name": "stdout",
          "text": [
            "Class names : ['nowildfire', 'wildfire']\n"
          ]
        }
      ]
    },
    {
      "cell_type": "code",
      "source": [
        "#class names in test dataset\n",
        "wildfire_class_names_test = list(wildfire_test_generator.class_indices.keys())\n",
        "print(\"Class names :\",wildfire_class_names_test)"
      ],
      "metadata": {
        "id": "rOaS0ktv9r_p",
        "colab": {
          "base_uri": "https://localhost:8080/"
        },
        "outputId": "34896fb5-815d-49c0-a7c2-448ebac823b5"
      },
      "execution_count": 48,
      "outputs": [
        {
          "output_type": "stream",
          "name": "stdout",
          "text": [
            "Class names : ['nowildfire', 'wildfire']\n"
          ]
        }
      ]
    },
    {
      "cell_type": "code",
      "source": [
        "custom_palette = {'nowildfire': 'yellow', 'wildfire': 'orange'}\n",
        "\n",
        "data = pd.DataFrame({'Class': wildfire_class_names, 'Count': [sum(wildfire_train_generator.labels == c) for c in range(num_classes)]})\n",
        "\n",
        "plt.figure(figsize=(20, 7))\n",
        "sns.barplot(x='Class', y='Count', data=data, palette=custom_palette)\n",
        "plt.title('Class Distribution in Training Set')\n",
        "plt.xlabel('Class')\n",
        "plt.ylabel('Count')\n",
        "plt.show()\n"
      ],
      "metadata": {
        "id": "n73h96hvx-ui",
        "colab": {
          "base_uri": "https://localhost:8080/",
          "height": 553
        },
        "outputId": "823a3b1a-613a-4a60-bf73-7b76b7bb3607"
      },
      "execution_count": 49,
      "outputs": [
        {
          "output_type": "display_data",
          "data": {
            "text/plain": [
              "<Figure size 2000x700 with 1 Axes>"
            ],
            "image/png": "[encoded data removed]"
          },
          "metadata": {}
        }
      ]
    },
    {
      "cell_type": "code",
      "source": [
        "#Below code will count the unique labels which will be equal to 2 and number of images belonging to wildfire and notwildfire class in training dataset\n",
        "labels_train = wildfire_train_generator.classes\n",
        "unique_labels_train, label_counts_train = np.unique(labels_train, return_counts=True)\n",
        "\n",
        "print(\"Number of  labels in training data used for wildfire prediction:\", len(unique_labels_train))\n",
        "for label, count in zip(unique_labels_train, label_counts_train):\n",
        "    print(\"Label:\", wildfire_class_names[label], \"- Count:\", count)"
      ],
      "metadata": {
        "id": "BlUFFl5SzJ_H",
        "colab": {
          "base_uri": "https://localhost:8080/"
        },
        "outputId": "924081b5-ea00-48a3-84dc-136c10a18127"
      },
      "execution_count": 50,
      "outputs": [
        {
          "output_type": "stream",
          "name": "stdout",
          "text": [
            "Number of  labels in training data used for wildfire prediction: 2\n",
            "Label: nowildfire - Count: 14621\n",
            "Label: wildfire - Count: 15921\n"
          ]
        }
      ]
    },
    {
      "cell_type": "code",
      "source": [
        "custom_palette = {'nowildfire': 'yellow', 'wildfire': 'orange'}\n",
        "\n",
        "data = pd.DataFrame({'Class': wildfire_class_names, 'Count': [sum(wildfire_valid_generator.labels == c) for c in range(num_classes)]})\n",
        "\n",
        "plt.figure(figsize=(20, 7))\n",
        "sns.barplot(x='Class', y='Count', data=data, palette=custom_palette)\n",
        "plt.title('Class Distribution in Validation Set')\n",
        "plt.xlabel('Class')\n",
        "plt.ylabel('Count')\n",
        "plt.show()"
      ],
      "metadata": {
        "id": "0uQQ6kKE0Ern",
        "colab": {
          "base_uri": "https://localhost:8080/",
          "height": 556
        },
        "outputId": "0ceaf8fe-8d9b-4196-8262-69f860f3c6fe"
      },
      "execution_count": 51,
      "outputs": [
        {
          "output_type": "display_data",
          "data": {
            "text/plain": [
              "<Figure size 2000x700 with 1 Axes>"
            ],
            "image/png": "[encoded data removed]"
          },
          "metadata": {}
        }
      ]
    },
    {
      "cell_type": "code",
      "source": [
        "#Below code will count the unique labels which will be equal to 2 and number of images belonging to wildfire and notwildfire class in valid dataset\n",
        "labels_valid = wildfire_valid_generator.classes\n",
        "unique_labels_valid, label_counts_valid = np.unique(labels_valid, return_counts=True)\n",
        "\n",
        "print(\"Number of unique labels in valid data:\", len(unique_labels_valid))\n",
        "for label, count in zip(unique_labels_valid, label_counts_valid):\n",
        "    print(\"Label:\", wildfire_class_names_valid[label], \"- Count:\", count)\n"
      ],
      "metadata": {
        "id": "zhLeWSHn0bLM",
        "colab": {
          "base_uri": "https://localhost:8080/"
        },
        "outputId": "1adae15f-4e24-4457-d2f5-27e9bb934e51"
      },
      "execution_count": 52,
      "outputs": [
        {
          "output_type": "stream",
          "name": "stdout",
          "text": [
            "Number of unique labels in valid data: 2\n",
            "Label: nowildfire - Count: 2824\n",
            "Label: wildfire - Count: 3489\n"
          ]
        }
      ]
    },
    {
      "cell_type": "code",
      "source": [
        "#Now Model training and compilation is done (Used CNN for best accuracy)"
      ],
      "metadata": {
        "id": "kO1r0uXj-Ix4"
      },
      "execution_count": null,
      "outputs": []
    },
    {
      "cell_type": "code",
      "source": [
        "#loading predefined keras model\n",
        "%ls /content/myDrive/MyDrive/models\n",
        "\n",
        "wildfire_CNN_model = load_model('/content/myDrive/MyDrive/models/kerasModel.h5')"
      ],
      "metadata": {
        "colab": {
          "base_uri": "https://localhost:8080/"
        },
        "id": "s0ahdtsFEIeq",
        "outputId": "12c53da2-0d80-423e-af23-0838d937f54b"
      },
      "execution_count": 53,
      "outputs": [
        {
          "output_type": "stream",
          "name": "stdout",
          "text": [
            "kerasModel.h5\n"
          ]
        }
      ]
    },
    {
      "cell_type": "code",
      "source": [
        "#it is a base CNN model using specific number of repetitions of CNN\n",
        "\n",
        "def base_model(input_shape, repetitions):\n",
        "\n",
        "  input_ = tf.keras.layers.Input(shape=input_shape, name='input')\n",
        "  x = input_\n",
        "\n",
        "  for i in range(repetitions):\n",
        "    n_filters = 2**(4 + i)\n",
        "    x = Conv2D(n_filters, 3, activation='relu')(x)\n",
        "    x = BatchNormalization()(x)\n",
        "    x = MaxPool2D(2)(x)\n",
        "\n",
        "  return x, input_"
      ],
      "metadata": {
        "id": "T9D0S_AzIGZI"
      },
      "execution_count": 54,
      "outputs": []
    },
    {
      "cell_type": "code",
      "source": [
        "def final_model(input_shape, repetitions):\n",
        "\n",
        "    x, input_ = base_model(input_shape, repetitions)\n",
        "\n",
        "    x = Conv2D(64, 3, activation='relu')(x)\n",
        "    x = GlobalAveragePooling2D()(x)\n",
        "    class_out = Dense(num_classes, activation='softmax', name='class_out')(x)\n",
        "\n",
        "    model = Model(inputs=input_, outputs=class_out)\n",
        "\n",
        "    print(model.summary())\n",
        "    return model"
      ],
      "metadata": {
        "id": "orn2O08LIlGR"
      },
      "execution_count": 55,
      "outputs": []
    },
    {
      "cell_type": "code",
      "source": [
        "#final CNN model\n",
        "\n",
        "wildfire_CNN_model = final_model(image_resize, 4)\n"
      ],
      "metadata": {
        "colab": {
          "base_uri": "https://localhost:8080/"
        },
        "id": "5S3FTz4HIskz",
        "outputId": "73399cbe-19b7-4e1a-df06-d82c5da6a9a5"
      },
      "execution_count": 56,
      "outputs": [
        {
          "output_type": "stream",
          "name": "stdout",
          "text": [
            "Model: \"model_1\"\n",
            "_________________________________________________________________\n",
            " Layer (type)                Output Shape              Param #   \n",
            "=================================================================\n",
            " input (InputLayer)          [(None, 224, 224, 3)]     0         \n",
            "                                                                 \n",
            " conv2d_5 (Conv2D)           (None, 222, 222, 16)      448       \n",
            "                                                                 \n",
            " batch_normalization_4 (Bat  (None, 222, 222, 16)      64        \n",
            " chNormalization)                                                \n",
            "                                                                 \n",
            " max_pooling2d_4 (MaxPoolin  (None, 111, 111, 16)      0         \n",
            " g2D)                                                            \n",
            "                                                                 \n",
            " conv2d_6 (Conv2D)           (None, 109, 109, 32)      4640      \n",
            "                                                                 \n",
            " batch_normalization_5 (Bat  (None, 109, 109, 32)      128       \n",
            " chNormalization)                                                \n",
            "                                                                 \n",
            " max_pooling2d_5 (MaxPoolin  (None, 54, 54, 32)        0         \n",
            " g2D)                                                            \n",
            "                                                                 \n",
            " conv2d_7 (Conv2D)           (None, 52, 52, 64)        18496     \n",
            "                                                                 \n",
            " batch_normalization_6 (Bat  (None, 52, 52, 64)        256       \n",
            " chNormalization)                                                \n",
            "                                                                 \n",
            " max_pooling2d_6 (MaxPoolin  (None, 26, 26, 64)        0         \n",
            " g2D)                                                            \n",
            "                                                                 \n",
            " conv2d_8 (Conv2D)           (None, 24, 24, 128)       73856     \n",
            "                                                                 \n",
            " batch_normalization_7 (Bat  (None, 24, 24, 128)       512       \n",
            " chNormalization)                                                \n",
            "                                                                 \n",
            " max_pooling2d_7 (MaxPoolin  (None, 12, 12, 128)       0         \n",
            " g2D)                                                            \n",
            "                                                                 \n",
            " conv2d_9 (Conv2D)           (None, 10, 10, 64)        73792     \n",
            "                                                                 \n",
            " global_average_pooling2d_1  (None, 64)                0         \n",
            "  (GlobalAveragePooling2D)                                       \n",
            "                                                                 \n",
            " class_out (Dense)           (None, 2)                 130       \n",
            "                                                                 \n",
            "=================================================================\n",
            "Total params: 172322 (673.13 KB)\n",
            "Trainable params: 171842 (671.26 KB)\n",
            "Non-trainable params: 480 (1.88 KB)\n",
            "_________________________________________________________________\n",
            "None\n"
          ]
        }
      ]
    },
    {
      "cell_type": "code",
      "source": [
        "#remove existing logs before starting training the model\n",
        "\n",
        "get_ipython().system('rm -rf logs')\n"
      ],
      "metadata": {
        "id": "Ql8V0E2_Jc4T"
      },
      "execution_count": 85,
      "outputs": []
    },
    {
      "cell_type": "code",
      "source": [
        "#model is configured keeping in mind the accuracy to produce accurate results\n",
        "wildfire_CNN_model.compile(\n",
        "    optimizer=\"adam\", loss=\"categorical_crossentropy\", metrics=[\"accuracy\"]\n",
        ")"
      ],
      "metadata": {
        "id": "wzUw4d_-LMSw"
      },
      "execution_count": 76,
      "outputs": []
    },
    {
      "cell_type": "code",
      "source": [
        "logdir = os.path.join(\"logs\", datetime.datetime.now().strftime(\"%Y%m%d-%H%M%S\"))\n",
        "tensorboard_callback = tf.keras.callbacks.TensorBoard(logdir)\n",
        "checkpoint = tf.keras.callbacks.ModelCheckpoint('saved_model/custom_best_model.h5', monitor='val_accuracy', verbose=1, save_best_only=True, mode='max')\n",
        "callbacks_list = [checkpoint, tensorboard_callback]"
      ],
      "metadata": {
        "id": "shgrCwRicmf6"
      },
      "execution_count": 77,
      "outputs": []
    },
    {
      "cell_type": "code",
      "source": [
        "#Training dataset(i.e. satellite imagery) is passed 1 times through CNN\n",
        "num_epochs = 1\n",
        "#Number of steps(batches) sent per epoch\n",
        "steps_per_epoch_wildfire_training = len(wildfire_train_generator)\n",
        "steps_per_epoch_wildfire_validation = len(wildfire_valid_generator)"
      ],
      "metadata": {
        "id": "SKadCCxxMH_w"
      },
      "execution_count": 84,
      "outputs": []
    },
    {
      "cell_type": "code",
      "source": [
        "#training the Model\n",
        "wildfire_trained_CNN_model = wildfire_CNN_model.fit_generator(\n",
        "    wildfire_train_generator,\n",
        "    steps_per_epoch=steps_per_epoch_wildfire_training,\n",
        "    epochs=num_epochs,\n",
        "    validation_data=wildfire_valid_generator,\n",
        "    validation_steps=steps_per_epoch_wildfire_validation,\n",
        "    verbose=1,\n",
        "    callbacks=[callbacks_list],\n",
        ")"
      ],
      "metadata": {
        "colab": {
          "base_uri": "https://localhost:8080/",
          "height": 373
        },
        "id": "L5GY5Ak1Mv9F",
        "outputId": "cdb3dcb2-2441-4aa3-b43f-20f14bd65777"
      },
      "execution_count": 86,
      "outputs": [
        {
          "output_type": "stream",
          "name": "stdout",
          "text": [
            "\r  1/306 [..............................] - ETA: 44:52 - loss: 0.0909 - accuracy: 0.9800"
          ]
        },
        {
          "output_type": "error",
          "ename": "KeyboardInterrupt",
          "evalue": "",
          "traceback": [
            "\u001b[0;31m---------------------------------------------------------------------------\u001b[0m",
            "\u001b[0;31mKeyboardInterrupt\u001b[0m                         Traceback (most recent call last)",
            "\u001b[0;32m<ipython-input-86-967138d5e7e4>\u001b[0m in \u001b[0;36m<cell line: 2>\u001b[0;34m()\u001b[0m\n\u001b[1;32m      1\u001b[0m \u001b[0;31m#training the Model\u001b[0m\u001b[0;34m\u001b[0m\u001b[0;34m\u001b[0m\u001b[0m\n\u001b[0;32m----> 2\u001b[0;31m wildfire_trained_CNN_model = wildfire_CNN_model.fit_generator(\n\u001b[0m\u001b[1;32m      3\u001b[0m     \u001b[0mwildfire_train_generator\u001b[0m\u001b[0;34m,\u001b[0m\u001b[0;34m\u001b[0m\u001b[0;34m\u001b[0m\u001b[0m\n\u001b[1;32m      4\u001b[0m     \u001b[0msteps_per_epoch\u001b[0m\u001b[0;34m=\u001b[0m\u001b[0msteps_per_epoch_wildfire_training\u001b[0m\u001b[0;34m,\u001b[0m\u001b[0;34m\u001b[0m\u001b[0;34m\u001b[0m\u001b[0m\n\u001b[1;32m      5\u001b[0m     \u001b[0mepochs\u001b[0m\u001b[0;34m=\u001b[0m\u001b[0mnum_epochs\u001b[0m\u001b[0;34m,\u001b[0m\u001b[0;34m\u001b[0m\u001b[0;34m\u001b[0m\u001b[0m\n",
            "\u001b[0;32m/usr/local/lib/python3.10/dist-packages/keras/src/engine/training.py\u001b[0m in \u001b[0;36mfit_generator\u001b[0;34m(self, generator, steps_per_epoch, epochs, verbose, callbacks, validation_data, validation_steps, validation_freq, class_weight, max_queue_size, workers, use_multiprocessing, shuffle, initial_epoch)\u001b[0m\n\u001b[1;32m   2911\u001b[0m             \u001b[0mstacklevel\u001b[0m\u001b[0;34m=\u001b[0m\u001b[0;36m2\u001b[0m\u001b[0;34m,\u001b[0m\u001b[0;34m\u001b[0m\u001b[0;34m\u001b[0m\u001b[0m\n\u001b[1;32m   2912\u001b[0m         )\n\u001b[0;32m-> 2913\u001b[0;31m         return self.fit(\n\u001b[0m\u001b[1;32m   2914\u001b[0m             \u001b[0mgenerator\u001b[0m\u001b[0;34m,\u001b[0m\u001b[0;34m\u001b[0m\u001b[0;34m\u001b[0m\u001b[0m\n\u001b[1;32m   2915\u001b[0m             \u001b[0msteps_per_epoch\u001b[0m\u001b[0;34m=\u001b[0m\u001b[0msteps_per_epoch\u001b[0m\u001b[0;34m,\u001b[0m\u001b[0;34m\u001b[0m\u001b[0;34m\u001b[0m\u001b[0m\n",
            "\u001b[0;32m/usr/local/lib/python3.10/dist-packages/keras/src/utils/traceback_utils.py\u001b[0m in \u001b[0;36merror_handler\u001b[0;34m(*args, **kwargs)\u001b[0m\n\u001b[1;32m     63\u001b[0m         \u001b[0mfiltered_tb\u001b[0m \u001b[0;34m=\u001b[0m \u001b[0;32mNone\u001b[0m\u001b[0;34m\u001b[0m\u001b[0;34m\u001b[0m\u001b[0m\n\u001b[1;32m     64\u001b[0m         \u001b[0;32mtry\u001b[0m\u001b[0;34m:\u001b[0m\u001b[0;34m\u001b[0m\u001b[0;34m\u001b[0m\u001b[0m\n\u001b[0;32m---> 65\u001b[0;31m             \u001b[0;32mreturn\u001b[0m \u001b[0mfn\u001b[0m\u001b[0;34m(\u001b[0m\u001b[0;34m*\u001b[0m\u001b[0margs\u001b[0m\u001b[0;34m,\u001b[0m \u001b[0;34m**\u001b[0m\u001b[0mkwargs\u001b[0m\u001b[0;34m)\u001b[0m\u001b[0;34m\u001b[0m\u001b[0;34m\u001b[0m\u001b[0m\n\u001b[0m\u001b[1;32m     66\u001b[0m         \u001b[0;32mexcept\u001b[0m \u001b[0mException\u001b[0m \u001b[0;32mas\u001b[0m \u001b[0me\u001b[0m\u001b[0;34m:\u001b[0m\u001b[0;34m\u001b[0m\u001b[0;34m\u001b[0m\u001b[0m\n\u001b[1;32m     67\u001b[0m             \u001b[0mfiltered_tb\u001b[0m \u001b[0;34m=\u001b[0m \u001b[0m_process_traceback_frames\u001b[0m\u001b[0;34m(\u001b[0m\u001b[0me\u001b[0m\u001b[0;34m.\u001b[0m\u001b[0m__traceback__\u001b[0m\u001b[0;34m)\u001b[0m\u001b[0;34m\u001b[0m\u001b[0;34m\u001b[0m\u001b[0m\n",
            "\u001b[0;32m/usr/local/lib/python3.10/dist-packages/keras/src/engine/training.py\u001b[0m in \u001b[0;36mfit\u001b[0;34m(self, x, y, batch_size, epochs, verbose, callbacks, validation_split, validation_data, shuffle, class_weight, sample_weight, initial_epoch, steps_per_epoch, validation_steps, validation_batch_size, validation_freq, max_queue_size, workers, use_multiprocessing)\u001b[0m\n\u001b[1;32m   1805\u001b[0m                         ):\n\u001b[1;32m   1806\u001b[0m                             \u001b[0mcallbacks\u001b[0m\u001b[0;34m.\u001b[0m\u001b[0mon_train_batch_begin\u001b[0m\u001b[0;34m(\u001b[0m\u001b[0mstep\u001b[0m\u001b[0;34m)\u001b[0m\u001b[0;34m\u001b[0m\u001b[0;34m\u001b[0m\u001b[0m\n\u001b[0;32m-> 1807\u001b[0;31m                             \u001b[0mtmp_logs\u001b[0m \u001b[0;34m=\u001b[0m \u001b[0mself\u001b[0m\u001b[0;34m.\u001b[0m\u001b[0mtrain_function\u001b[0m\u001b[0;34m(\u001b[0m\u001b[0miterator\u001b[0m\u001b[0;34m)\u001b[0m\u001b[0;34m\u001b[0m\u001b[0;34m\u001b[0m\u001b[0m\n\u001b[0m\u001b[1;32m   1808\u001b[0m                             \u001b[0;32mif\u001b[0m \u001b[0mdata_handler\u001b[0m\u001b[0;34m.\u001b[0m\u001b[0mshould_sync\u001b[0m\u001b[0;34m:\u001b[0m\u001b[0;34m\u001b[0m\u001b[0;34m\u001b[0m\u001b[0m\n\u001b[1;32m   1809\u001b[0m                                 \u001b[0mcontext\u001b[0m\u001b[0;34m.\u001b[0m\u001b[0masync_wait\u001b[0m\u001b[0;34m(\u001b[0m\u001b[0;34m)\u001b[0m\u001b[0;34m\u001b[0m\u001b[0;34m\u001b[0m\u001b[0m\n",
            "\u001b[0;32m/usr/local/lib/python3.10/dist-packages/tensorflow/python/util/traceback_utils.py\u001b[0m in \u001b[0;36merror_handler\u001b[0;34m(*args, **kwargs)\u001b[0m\n\u001b[1;32m    148\u001b[0m     \u001b[0mfiltered_tb\u001b[0m \u001b[0;34m=\u001b[0m \u001b[0;32mNone\u001b[0m\u001b[0;34m\u001b[0m\u001b[0;34m\u001b[0m\u001b[0m\n\u001b[1;32m    149\u001b[0m     \u001b[0;32mtry\u001b[0m\u001b[0;34m:\u001b[0m\u001b[0;34m\u001b[0m\u001b[0;34m\u001b[0m\u001b[0m\n\u001b[0;32m--> 150\u001b[0;31m       \u001b[0;32mreturn\u001b[0m \u001b[0mfn\u001b[0m\u001b[0;34m(\u001b[0m\u001b[0;34m*\u001b[0m\u001b[0margs\u001b[0m\u001b[0;34m,\u001b[0m \u001b[0;34m**\u001b[0m\u001b[0mkwargs\u001b[0m\u001b[0;34m)\u001b[0m\u001b[0;34m\u001b[0m\u001b[0;34m\u001b[0m\u001b[0m\n\u001b[0m\u001b[1;32m    151\u001b[0m     \u001b[0;32mexcept\u001b[0m \u001b[0mException\u001b[0m \u001b[0;32mas\u001b[0m \u001b[0me\u001b[0m\u001b[0;34m:\u001b[0m\u001b[0;34m\u001b[0m\u001b[0;34m\u001b[0m\u001b[0m\n\u001b[1;32m    152\u001b[0m       \u001b[0mfiltered_tb\u001b[0m \u001b[0;34m=\u001b[0m \u001b[0m_process_traceback_frames\u001b[0m\u001b[0;34m(\u001b[0m\u001b[0me\u001b[0m\u001b[0;34m.\u001b[0m\u001b[0m__traceback__\u001b[0m\u001b[0;34m)\u001b[0m\u001b[0;34m\u001b[0m\u001b[0;34m\u001b[0m\u001b[0m\n",
            "\u001b[0;32m/usr/local/lib/python3.10/dist-packages/tensorflow/python/eager/polymorphic_function/polymorphic_function.py\u001b[0m in \u001b[0;36m__call__\u001b[0;34m(self, *args, **kwds)\u001b[0m\n\u001b[1;32m    830\u001b[0m \u001b[0;34m\u001b[0m\u001b[0m\n\u001b[1;32m    831\u001b[0m       \u001b[0;32mwith\u001b[0m \u001b[0mOptionalXlaContext\u001b[0m\u001b[0;34m(\u001b[0m\u001b[0mself\u001b[0m\u001b[0;34m.\u001b[0m\u001b[0m_jit_compile\u001b[0m\u001b[0;34m)\u001b[0m\u001b[0;34m:\u001b[0m\u001b[0;34m\u001b[0m\u001b[0;34m\u001b[0m\u001b[0m\n\u001b[0;32m--> 832\u001b[0;31m         \u001b[0mresult\u001b[0m \u001b[0;34m=\u001b[0m \u001b[0mself\u001b[0m\u001b[0;34m.\u001b[0m\u001b[0m_call\u001b[0m\u001b[0;34m(\u001b[0m\u001b[0;34m*\u001b[0m\u001b[0margs\u001b[0m\u001b[0;34m,\u001b[0m \u001b[0;34m**\u001b[0m\u001b[0mkwds\u001b[0m\u001b[0;34m)\u001b[0m\u001b[0;34m\u001b[0m\u001b[0;34m\u001b[0m\u001b[0m\n\u001b[0m\u001b[1;32m    833\u001b[0m \u001b[0;34m\u001b[0m\u001b[0m\n\u001b[1;32m    834\u001b[0m       \u001b[0mnew_tracing_count\u001b[0m \u001b[0;34m=\u001b[0m \u001b[0mself\u001b[0m\u001b[0;34m.\u001b[0m\u001b[0mexperimental_get_tracing_count\u001b[0m\u001b[0;34m(\u001b[0m\u001b[0;34m)\u001b[0m\u001b[0;34m\u001b[0m\u001b[0;34m\u001b[0m\u001b[0m\n",
            "\u001b[0;32m/usr/local/lib/python3.10/dist-packages/tensorflow/python/eager/polymorphic_function/polymorphic_function.py\u001b[0m in \u001b[0;36m_call\u001b[0;34m(self, *args, **kwds)\u001b[0m\n\u001b[1;32m    866\u001b[0m       \u001b[0;31m# In this case we have created variables on the first call, so we run the\u001b[0m\u001b[0;34m\u001b[0m\u001b[0;34m\u001b[0m\u001b[0m\n\u001b[1;32m    867\u001b[0m       \u001b[0;31m# defunned version which is guaranteed to never create variables.\u001b[0m\u001b[0;34m\u001b[0m\u001b[0;34m\u001b[0m\u001b[0m\n\u001b[0;32m--> 868\u001b[0;31m       return tracing_compilation.call_function(\n\u001b[0m\u001b[1;32m    869\u001b[0m           \u001b[0margs\u001b[0m\u001b[0;34m,\u001b[0m \u001b[0mkwds\u001b[0m\u001b[0;34m,\u001b[0m \u001b[0mself\u001b[0m\u001b[0;34m.\u001b[0m\u001b[0m_no_variable_creation_config\u001b[0m\u001b[0;34m\u001b[0m\u001b[0;34m\u001b[0m\u001b[0m\n\u001b[1;32m    870\u001b[0m       )\n",
            "\u001b[0;32m/usr/local/lib/python3.10/dist-packages/tensorflow/python/eager/polymorphic_function/tracing_compilation.py\u001b[0m in \u001b[0;36mcall_function\u001b[0;34m(args, kwargs, tracing_options)\u001b[0m\n\u001b[1;32m    137\u001b[0m   \u001b[0mbound_args\u001b[0m \u001b[0;34m=\u001b[0m \u001b[0mfunction\u001b[0m\u001b[0;34m.\u001b[0m\u001b[0mfunction_type\u001b[0m\u001b[0;34m.\u001b[0m\u001b[0mbind\u001b[0m\u001b[0;34m(\u001b[0m\u001b[0;34m*\u001b[0m\u001b[0margs\u001b[0m\u001b[0;34m,\u001b[0m \u001b[0;34m**\u001b[0m\u001b[0mkwargs\u001b[0m\u001b[0;34m)\u001b[0m\u001b[0;34m\u001b[0m\u001b[0;34m\u001b[0m\u001b[0m\n\u001b[1;32m    138\u001b[0m   \u001b[0mflat_inputs\u001b[0m \u001b[0;34m=\u001b[0m \u001b[0mfunction\u001b[0m\u001b[0;34m.\u001b[0m\u001b[0mfunction_type\u001b[0m\u001b[0;34m.\u001b[0m\u001b[0munpack_inputs\u001b[0m\u001b[0;34m(\u001b[0m\u001b[0mbound_args\u001b[0m\u001b[0;34m)\u001b[0m\u001b[0;34m\u001b[0m\u001b[0;34m\u001b[0m\u001b[0m\n\u001b[0;32m--> 139\u001b[0;31m   return function._call_flat(  # pylint: disable=protected-access\n\u001b[0m\u001b[1;32m    140\u001b[0m       \u001b[0mflat_inputs\u001b[0m\u001b[0;34m,\u001b[0m \u001b[0mcaptured_inputs\u001b[0m\u001b[0;34m=\u001b[0m\u001b[0mfunction\u001b[0m\u001b[0;34m.\u001b[0m\u001b[0mcaptured_inputs\u001b[0m\u001b[0;34m\u001b[0m\u001b[0;34m\u001b[0m\u001b[0m\n\u001b[1;32m    141\u001b[0m   )\n",
            "\u001b[0;32m/usr/local/lib/python3.10/dist-packages/tensorflow/python/eager/polymorphic_function/concrete_function.py\u001b[0m in \u001b[0;36m_call_flat\u001b[0;34m(self, tensor_inputs, captured_inputs)\u001b[0m\n\u001b[1;32m   1321\u001b[0m         and executing_eagerly):\n\u001b[1;32m   1322\u001b[0m       \u001b[0;31m# No tape is watching; skip to running the function.\u001b[0m\u001b[0;34m\u001b[0m\u001b[0;34m\u001b[0m\u001b[0m\n\u001b[0;32m-> 1323\u001b[0;31m       \u001b[0;32mreturn\u001b[0m \u001b[0mself\u001b[0m\u001b[0;34m.\u001b[0m\u001b[0m_inference_function\u001b[0m\u001b[0;34m.\u001b[0m\u001b[0mcall_preflattened\u001b[0m\u001b[0;34m(\u001b[0m\u001b[0margs\u001b[0m\u001b[0;34m)\u001b[0m\u001b[0;34m\u001b[0m\u001b[0;34m\u001b[0m\u001b[0m\n\u001b[0m\u001b[1;32m   1324\u001b[0m     forward_backward = self._select_forward_and_backward_functions(\n\u001b[1;32m   1325\u001b[0m         \u001b[0margs\u001b[0m\u001b[0;34m,\u001b[0m\u001b[0;34m\u001b[0m\u001b[0;34m\u001b[0m\u001b[0m\n",
            "\u001b[0;32m/usr/local/lib/python3.10/dist-packages/tensorflow/python/eager/polymorphic_function/atomic_function.py\u001b[0m in \u001b[0;36mcall_preflattened\u001b[0;34m(self, args)\u001b[0m\n\u001b[1;32m    214\u001b[0m   \u001b[0;32mdef\u001b[0m \u001b[0mcall_preflattened\u001b[0m\u001b[0;34m(\u001b[0m\u001b[0mself\u001b[0m\u001b[0;34m,\u001b[0m \u001b[0margs\u001b[0m\u001b[0;34m:\u001b[0m \u001b[0mSequence\u001b[0m\u001b[0;34m[\u001b[0m\u001b[0mcore\u001b[0m\u001b[0;34m.\u001b[0m\u001b[0mTensor\u001b[0m\u001b[0;34m]\u001b[0m\u001b[0;34m)\u001b[0m \u001b[0;34m->\u001b[0m \u001b[0mAny\u001b[0m\u001b[0;34m:\u001b[0m\u001b[0;34m\u001b[0m\u001b[0;34m\u001b[0m\u001b[0m\n\u001b[1;32m    215\u001b[0m     \u001b[0;34m\"\"\"Calls with flattened tensor inputs and returns the structured output.\"\"\"\u001b[0m\u001b[0;34m\u001b[0m\u001b[0;34m\u001b[0m\u001b[0m\n\u001b[0;32m--> 216\u001b[0;31m     \u001b[0mflat_outputs\u001b[0m \u001b[0;34m=\u001b[0m \u001b[0mself\u001b[0m\u001b[0;34m.\u001b[0m\u001b[0mcall_flat\u001b[0m\u001b[0;34m(\u001b[0m\u001b[0;34m*\u001b[0m\u001b[0margs\u001b[0m\u001b[0;34m)\u001b[0m\u001b[0;34m\u001b[0m\u001b[0;34m\u001b[0m\u001b[0m\n\u001b[0m\u001b[1;32m    217\u001b[0m     \u001b[0;32mreturn\u001b[0m \u001b[0mself\u001b[0m\u001b[0;34m.\u001b[0m\u001b[0mfunction_type\u001b[0m\u001b[0;34m.\u001b[0m\u001b[0mpack_output\u001b[0m\u001b[0;34m(\u001b[0m\u001b[0mflat_outputs\u001b[0m\u001b[0;34m)\u001b[0m\u001b[0;34m\u001b[0m\u001b[0;34m\u001b[0m\u001b[0m\n\u001b[1;32m    218\u001b[0m \u001b[0;34m\u001b[0m\u001b[0m\n",
            "\u001b[0;32m/usr/local/lib/python3.10/dist-packages/tensorflow/python/eager/polymorphic_function/atomic_function.py\u001b[0m in \u001b[0;36mcall_flat\u001b[0;34m(self, *args)\u001b[0m\n\u001b[1;32m    249\u001b[0m         \u001b[0;32mwith\u001b[0m \u001b[0mrecord\u001b[0m\u001b[0;34m.\u001b[0m\u001b[0mstop_recording\u001b[0m\u001b[0;34m(\u001b[0m\u001b[0;34m)\u001b[0m\u001b[0;34m:\u001b[0m\u001b[0;34m\u001b[0m\u001b[0;34m\u001b[0m\u001b[0m\n\u001b[1;32m    250\u001b[0m           \u001b[0;32mif\u001b[0m \u001b[0mself\u001b[0m\u001b[0;34m.\u001b[0m\u001b[0m_bound_context\u001b[0m\u001b[0;34m.\u001b[0m\u001b[0mexecuting_eagerly\u001b[0m\u001b[0;34m(\u001b[0m\u001b[0;34m)\u001b[0m\u001b[0;34m:\u001b[0m\u001b[0;34m\u001b[0m\u001b[0;34m\u001b[0m\u001b[0m\n\u001b[0;32m--> 251\u001b[0;31m             outputs = self._bound_context.call_function(\n\u001b[0m\u001b[1;32m    252\u001b[0m                 \u001b[0mself\u001b[0m\u001b[0;34m.\u001b[0m\u001b[0mname\u001b[0m\u001b[0;34m,\u001b[0m\u001b[0;34m\u001b[0m\u001b[0;34m\u001b[0m\u001b[0m\n\u001b[1;32m    253\u001b[0m                 \u001b[0mlist\u001b[0m\u001b[0;34m(\u001b[0m\u001b[0margs\u001b[0m\u001b[0;34m)\u001b[0m\u001b[0;34m,\u001b[0m\u001b[0;34m\u001b[0m\u001b[0;34m\u001b[0m\u001b[0m\n",
            "\u001b[0;32m/usr/local/lib/python3.10/dist-packages/tensorflow/python/eager/context.py\u001b[0m in \u001b[0;36mcall_function\u001b[0;34m(self, name, tensor_inputs, num_outputs)\u001b[0m\n\u001b[1;32m   1484\u001b[0m     \u001b[0mcancellation_context\u001b[0m \u001b[0;34m=\u001b[0m \u001b[0mcancellation\u001b[0m\u001b[0;34m.\u001b[0m\u001b[0mcontext\u001b[0m\u001b[0;34m(\u001b[0m\u001b[0;34m)\u001b[0m\u001b[0;34m\u001b[0m\u001b[0;34m\u001b[0m\u001b[0m\n\u001b[1;32m   1485\u001b[0m     \u001b[0;32mif\u001b[0m \u001b[0mcancellation_context\u001b[0m \u001b[0;32mis\u001b[0m \u001b[0;32mNone\u001b[0m\u001b[0;34m:\u001b[0m\u001b[0;34m\u001b[0m\u001b[0;34m\u001b[0m\u001b[0m\n\u001b[0;32m-> 1486\u001b[0;31m       outputs = execute.execute(\n\u001b[0m\u001b[1;32m   1487\u001b[0m           \u001b[0mname\u001b[0m\u001b[0;34m.\u001b[0m\u001b[0mdecode\u001b[0m\u001b[0;34m(\u001b[0m\u001b[0;34m\"utf-8\"\u001b[0m\u001b[0;34m)\u001b[0m\u001b[0;34m,\u001b[0m\u001b[0;34m\u001b[0m\u001b[0;34m\u001b[0m\u001b[0m\n\u001b[1;32m   1488\u001b[0m           \u001b[0mnum_outputs\u001b[0m\u001b[0;34m=\u001b[0m\u001b[0mnum_outputs\u001b[0m\u001b[0;34m,\u001b[0m\u001b[0;34m\u001b[0m\u001b[0;34m\u001b[0m\u001b[0m\n",
            "\u001b[0;32m/usr/local/lib/python3.10/dist-packages/tensorflow/python/eager/execute.py\u001b[0m in \u001b[0;36mquick_execute\u001b[0;34m(op_name, num_outputs, inputs, attrs, ctx, name)\u001b[0m\n\u001b[1;32m     51\u001b[0m   \u001b[0;32mtry\u001b[0m\u001b[0;34m:\u001b[0m\u001b[0;34m\u001b[0m\u001b[0;34m\u001b[0m\u001b[0m\n\u001b[1;32m     52\u001b[0m     \u001b[0mctx\u001b[0m\u001b[0;34m.\u001b[0m\u001b[0mensure_initialized\u001b[0m\u001b[0;34m(\u001b[0m\u001b[0;34m)\u001b[0m\u001b[0;34m\u001b[0m\u001b[0;34m\u001b[0m\u001b[0m\n\u001b[0;32m---> 53\u001b[0;31m     tensors = pywrap_tfe.TFE_Py_Execute(ctx._handle, device_name, op_name,\n\u001b[0m\u001b[1;32m     54\u001b[0m                                         inputs, attrs, num_outputs)\n\u001b[1;32m     55\u001b[0m   \u001b[0;32mexcept\u001b[0m \u001b[0mcore\u001b[0m\u001b[0;34m.\u001b[0m\u001b[0m_NotOkStatusException\u001b[0m \u001b[0;32mas\u001b[0m \u001b[0me\u001b[0m\u001b[0;34m:\u001b[0m\u001b[0;34m\u001b[0m\u001b[0;34m\u001b[0m\u001b[0m\n",
            "\u001b[0;31mKeyboardInterrupt\u001b[0m: "
          ]
        }
      ]
    },
    {
      "cell_type": "code",
      "source": [
        "#After training the Model ,Let's analyse the model accuracy via plots of accuracy and loss\n",
        "wildfire_CNN_model .save('saved_model/custom_model')\n",
        "print(\"Model saved!\")"
      ],
      "metadata": {
        "colab": {
          "base_uri": "https://localhost:8080/"
        },
        "id": "cBcnptelP4RA",
        "outputId": "fb584c4a-4fdf-4c99-c9dd-1eb4f847cf52"
      },
      "execution_count": 80,
      "outputs": [
        {
          "output_type": "stream",
          "name": "stdout",
          "text": [
            "Model saved!\n"
          ]
        }
      ]
    },
    {
      "cell_type": "code",
      "source": [
        "#plot for model accuracy\n",
        "def plot_acc(wildfire_trained_model_CNN):\n",
        "  plt.figure(figsize=(20, 10))\n",
        "  sns.set_style('whitegrid')\n",
        "  plt.plot(wildfire_trained_model_CNN.history['accuracy'])\n",
        "  plt.plot(wildfire_trained_model_CNN.history['val_accuracy'])\n",
        "  plt.title('Wildfire Model Accuracy')\n",
        "  plt.ylabel('Accuracy')\n",
        "  plt.xlabel('Epoch')\n",
        "  plt.legend(['accuracy', 'val_accuracy'], loc='upper left')\n",
        "  plt.show()\n",
        "plot_acc(wildfire_trained_CNN_model)"
      ],
      "metadata": {
        "colab": {
          "base_uri": "https://localhost:8080/",
          "height": 176
        },
        "id": "APFE9jf0P_tn",
        "outputId": "6cf4f444-b548-4ca5-cdf4-64368260f7ed"
      },
      "execution_count": 83,
      "outputs": [
        {
          "output_type": "error",
          "ename": "NameError",
          "evalue": "name 'wildfire_trained_CNN_model' is not defined",
          "traceback": [
            "\u001b[0;31m---------------------------------------------------------------------------\u001b[0m",
            "\u001b[0;31mNameError\u001b[0m                                 Traceback (most recent call last)",
            "\u001b[0;32m<ipython-input-83-6ae512722239>\u001b[0m in \u001b[0;36m<cell line: 12>\u001b[0;34m()\u001b[0m\n\u001b[1;32m     10\u001b[0m   \u001b[0mplt\u001b[0m\u001b[0;34m.\u001b[0m\u001b[0mlegend\u001b[0m\u001b[0;34m(\u001b[0m\u001b[0;34m[\u001b[0m\u001b[0;34m'accuracy'\u001b[0m\u001b[0;34m,\u001b[0m \u001b[0;34m'val_accuracy'\u001b[0m\u001b[0;34m]\u001b[0m\u001b[0;34m,\u001b[0m \u001b[0mloc\u001b[0m\u001b[0;34m=\u001b[0m\u001b[0;34m'upper left'\u001b[0m\u001b[0;34m)\u001b[0m\u001b[0;34m\u001b[0m\u001b[0;34m\u001b[0m\u001b[0m\n\u001b[1;32m     11\u001b[0m   \u001b[0mplt\u001b[0m\u001b[0;34m.\u001b[0m\u001b[0mshow\u001b[0m\u001b[0;34m(\u001b[0m\u001b[0;34m)\u001b[0m\u001b[0;34m\u001b[0m\u001b[0;34m\u001b[0m\u001b[0m\n\u001b[0;32m---> 12\u001b[0;31m \u001b[0mplot_acc\u001b[0m\u001b[0;34m(\u001b[0m\u001b[0mwildfire_trained_CNN_model\u001b[0m\u001b[0;34m)\u001b[0m\u001b[0;34m\u001b[0m\u001b[0;34m\u001b[0m\u001b[0m\n\u001b[0m",
            "\u001b[0;31mNameError\u001b[0m: name 'wildfire_trained_CNN_model' is not defined"
          ]
        }
      ]
    },
    {
      "cell_type": "code",
      "source": [
        "# plot for model loss\n",
        "def plot_loss(wildfire_trained_model_CNN ):\n",
        "  plt.figure(figsize=(20, 10))\n",
        "  sns.set_style('whitegrid')\n",
        "  plt.plot(wildfire_trained_model_CNN .history['loss'])\n",
        "  plt.plot(wildfire_trained_model_CNN .history['val_loss'])\n",
        "  plt.title('Wildfire Model Loss')\n",
        "  plt.ylabel('Loss')\n",
        "  plt.xlabel('Epochs')\n",
        "  plt.legend(['loss', 'val_loss'], loc='upper left')\n",
        "  plt.show()\n",
        "plot_loss(wildfire_trained_CNN_model)"
      ],
      "metadata": {
        "id": "eImch4-OQYgO"
      },
      "execution_count": null,
      "outputs": []
    },
    {
      "cell_type": "code",
      "source": [
        "#Now we have are done with data preprocessing,rescaling,loading,Model training and analysing the model\n",
        "#Let's dive into the exciting part i.e. testing the data (how well our model behaves in case of unseen data)\n",
        "#made the data frames for prediction"
      ],
      "metadata": {
        "id": "FIcOLq73QwKO"
      },
      "execution_count": null,
      "outputs": []
    },
    {
      "cell_type": "code",
      "source": [
        "filenames = wildfire_test_generator.filenames\n",
        "wildfire_predictions = wildfire_CNN_model.predict_generator(wildfire_test_generator, steps=len(wildfire_test_generator), verbose=1).round(3)\n"
      ],
      "metadata": {
        "id": "f4xvXK_HR02n"
      },
      "execution_count": null,
      "outputs": []
    },
    {
      "cell_type": "code",
      "source": [
        "filenames_df = pd.DataFrame(filenames, columns=['File Path'])\n",
        "predicted_df = pd.DataFrame(wildfire_predictions, columns=['No Wildfire Probability', 'Wildfire Probability'])\n",
        "model_predictions = pd.concat([filenames_df, predicted_df], axis=1)\n",
        "model_predictions"
      ],
      "metadata": {
        "id": "Di00RsR3SP3w"
      },
      "execution_count": null,
      "outputs": []
    },
    {
      "cell_type": "code",
      "source": [
        "# Predictions made by the model are saved to CSV file named model_predictions\n",
        "file_name='/content/gdrive/MyDrive/Colab Notebooks/wildfire-prediction-images/predictions/model_predictions.csv'\n",
        "model_predictions.to_csv(file_name, sep=',', encoding='utf-8')"
      ],
      "metadata": {
        "id": "0n3NINVuS7cG"
      },
      "execution_count": null,
      "outputs": []
    },
    {
      "cell_type": "code",
      "source": [],
      "metadata": {
        "id": "mN0Xg2nEVF5O"
      },
      "execution_count": null,
      "outputs": []
    },
    {
      "cell_type": "code",
      "source": [],
      "metadata": {
        "id": "IrA-Usr-VJCL"
      },
      "execution_count": null,
      "outputs": []
    },
    {
      "cell_type": "code",
      "source": [
        "#once the model is trained we can just put the image and detect it using simple technique\n",
        "#But to make the model (CNN model)work more accurate and more efficient we will build CAM(Class Activation Map for the input image) and then classify"
      ],
      "metadata": {
        "id": "iBgB8xygVJLT"
      },
      "execution_count": null,
      "outputs": []
    },
    {
      "cell_type": "code",
      "source": [
        "outputs = [layer.output for layer in wildfire_CNN_model.layers[1:9]]\n"
      ],
      "metadata": {
        "id": "Ce-KaED2hU_V"
      },
      "execution_count": null,
      "outputs": []
    },
    {
      "cell_type": "code",
      "source": [
        "visualize_model = Model(wildfire_CNN_model.input, outputs)\n",
        "layer_names = []\n",
        "for layer in outputs:\n",
        "    layer_names.append(layer.name.split(\"/\")[0])\n",
        "print(\"Layers that will be used for visualization: \")\n",
        "print(layer_names)"
      ],
      "metadata": {
        "id": "y-8Al0LLpqp_"
      },
      "execution_count": null,
      "outputs": []
    },
    {
      "cell_type": "code",
      "source": [
        "gap_weights = wildfire_CNN_model.layers[-1].get_weights()[0]\n",
        "gap_weights.shape\n",
        "cam_model  = Model(inputs=wildfire_CNN_model.input, outputs=(wildfire_CNN_model.layers[-3].output,wildfire_CNN_model.layers[-1].output))\n",
        "cam_model.summary()"
      ],
      "metadata": {
        "id": "ZIjH89Expu_I"
      },
      "execution_count": null,
      "outputs": []
    },
    {
      "cell_type": "code",
      "source": [
        "cam_model.save('saved_model/cam_model')\n",
        "print(\"Model saved!\")"
      ],
      "metadata": {
        "id": "qcwr0BNOUvTD"
      },
      "execution_count": null,
      "outputs": []
    },
    {
      "cell_type": "code",
      "source": [
        "def show_cam(image_value, features, results):\n",
        "\n",
        "  features_for_img = features[0]\n",
        "  prediction = results[0]\n",
        "\n",
        "  class_activation_weights = gap_weights[:,0]\n",
        "  class_activation_features = sp.ndimage.zoom(features_for_img, (im_size/10, im_size/10, 1), order=2)\n",
        "  cam_output  = np.dot(class_activation_features,class_activation_weights)\n",
        "\n",
        "  # Visualize the results\n",
        "  plt.figure(figsize=(12, 12))\n",
        "  plt.imshow(cam_output, cmap='jet', alpha=0.5)\n",
        "  plt.imshow(tf.squeeze(image_value), alpha=0.5)\n",
        "  plt.title('Class Activation Map')\n",
        "  #show the probabilites of wildfire and no wildfire\n",
        "  plt.figtext(.5, .05, f\"No Wildfire Probability: {results[0][0] * 100}%\\nWildfire Probability: {results[0][1] * 100}%\", ha=\"center\", fontsize=12, bbox={\"facecolor\":\"green\", \"alpha\":0.5, \"pad\":3})\n",
        "  plt.colorbar()\n",
        "  plt.show()"
      ],
      "metadata": {
        "id": "SOjdz385U9tY"
      },
      "execution_count": 10,
      "outputs": []
    },
    {
      "cell_type": "code",
      "source": [
        "#image will be the input and it is converted to CAM(class activation map) and is classified whether there is wildfire probablity or not\n",
        "def convert_and_classify(image):\n",
        "\n",
        "  img = cv2.imread(image)\n",
        "  img = cv2.cvtColor(img, cv2.COLOR_BGR2RGB)\n",
        "\n",
        "  img = cv2.resize(img, (im_size, im_size)) / 255.0\n",
        "  tensor_image = np.expand_dims(img, axis=0)\n",
        "  features, results = cam_model.predict(tensor_image)\n",
        "\n",
        "  # generate the CAM\n",
        "  show_cam(tensor_image, features, results)\n",
        "\n",
        "\n"
      ],
      "metadata": {
        "id": "a_3eheTQU8Ro"
      },
      "execution_count": null,
      "outputs": []
    },
    {
      "cell_type": "code",
      "source": [
        "#upload the picture to predict\n",
        "from google.colab import files\n",
        "from keras.preprocessing import image\n",
        "from numpy import asarray"
      ],
      "metadata": {
        "id": "69woC11J4zH7"
      },
      "execution_count": null,
      "outputs": []
    },
    {
      "cell_type": "code",
      "source": [
        "uploaded = files.upload()"
      ],
      "metadata": {
        "id": "7mSuPpEZ44vM"
      },
      "execution_count": null,
      "outputs": []
    },
    {
      "cell_type": "code",
      "source": [
        "for fn in uploaded.keys():\n",
        "\n",
        "  # CAM Model Prediction\n",
        "  width = im_size\n",
        "  height = im_size\n",
        "  dim = (width, height)\n",
        "  path = '/content/gdrive/MyDrive/Colab Notebooks/AI Data/' + fn\n",
        "  img = cv2.imread(path)\n",
        "  print('CAM Model Predicton:\\n')\n",
        "  convert_and_classify(path)"
      ],
      "metadata": {
        "id": "Qbrcb7sM47ob"
      },
      "execution_count": null,
      "outputs": []
    },
    {
      "cell_type": "code",
      "source": [
        "\n",
        "#we will show by giving the images as the input how it will create and classify the image(some outputs show through general approach also)\n",
        "\n",
        "#try to visualise data more and more for better understanding(all todos)\n",
        "\n",
        "#This model accuracy is alone 95.3% .(todo)show error also accuracy confusion matrix and all for better understanding ki why my code is good\n"
      ],
      "metadata": {
        "id": "AvdkgF_oeIaU"
      },
      "execution_count": null,
      "outputs": []
    },
    {
      "cell_type": "code",
      "source": [
        "# After successful prediction of the wildfire using CNN and CAM through satellite imagery\n",
        "#It not only predicts whether there is wildfire or not but it gives the probability of happening and not happening of wildfire\n",
        "\n",
        "\n",
        "\n",
        "#Relief and reponse efforts\n",
        "#specifically choosing uttarakhand as a target state since it has seen my wildfires till 2000 and now\n",
        "#once an area of uttarakhand is detected using the CNN model that takes the satellite imagery during the wildfire\n",
        "#we can use the latitude and longitude of the area to fetch nearby organisations like NGO'S,police stations and healthcare\n",
        "#we can send alerts to them using phone numbers and emails since the phone number will be available\n",
        "#There can be the case that no wildfire detected and false alarms can be sent for this situation.we will not show any nearby service and keep it  saying that no servic available you are safe"
      ],
      "metadata": {
        "id": "GmAWz5aWdkaT"
      },
      "execution_count": null,
      "outputs": []
    }
  ]
}