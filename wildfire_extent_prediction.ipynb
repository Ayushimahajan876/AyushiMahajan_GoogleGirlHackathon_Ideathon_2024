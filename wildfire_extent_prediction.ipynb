{
  "nbformat": 4,
  "nbformat_minor": 0,
  "metadata": {
    "colab": {
      "provenance": [],
      "authorship_tag": "ABX9TyPJVFp2167KjFMzW4c6yPSi",
      "include_colab_link": true
    },
    "kernelspec": {
      "name": "python3",
      "display_name": "Python 3"
    },
    "language_info": {
      "name": "python"
    }
  },
  "cells": [
    {
      "cell_type": "markdown",
      "metadata": {
        "id": "view-in-github",
        "colab_type": "text"
      },
      "source": [
        "<a href=\"https://colab.research.google.com/github/Ayushimahajan876/AyushiMahajan_GoogleGirlHackathon_Ideathon_2024/blob/main/wildfire_extent_prediction.ipynb\" target=\"_parent\"><img src=\"https://colab.research.google.com/assets/colab-badge.svg\" alt=\"Open In Colab\"/></a>"
      ]
    },
    {
      "cell_type": "code",
      "execution_count": 43,
      "metadata": {
        "colab": {
          "base_uri": "https://localhost:8080/"
        },
        "id": "tRUKcVgowNlc",
        "outputId": "f28fe88f-a3d1-45c9-a5c9-591f68aaa751"
      },
      "outputs": [
        {
          "output_type": "stream",
          "name": "stdout",
          "text": [
            "Drive already mounted at /content/newDrive/; to attempt to forcibly remount, call drive.mount(\"/content/newDrive/\", force_remount=True).\n"
          ]
        }
      ],
      "source": [
        "from google.colab import drive\n",
        "drive.mount('/content/newDrive/')"
      ]
    },
    {
      "cell_type": "code",
      "source": [
        "import pandas as pd\n",
        "from sklearn.model_selection import train_test_split\n",
        "from sklearn.ensemble import RandomForestRegressor\n",
        "from sklearn.metrics import mean_squared_error, mean_absolute_error\n"
      ],
      "metadata": {
        "id": "mQfyFmxiS6Ow"
      },
      "execution_count": 44,
      "outputs": []
    },
    {
      "cell_type": "code",
      "source": [
        "wildfire_extent_path=\"/content/newDrive/MyDrive/forestfires.csv\""
      ],
      "metadata": {
        "id": "4O8KYuWfS6RS"
      },
      "execution_count": 45,
      "outputs": []
    },
    {
      "cell_type": "code",
      "source": [
        "#reading the csv file from drive\n",
        "\n",
        "wildfire_extent= pd.read_csv(wildfire_extent_path)\n",
        "print(wildfire_extent)\n"
      ],
      "metadata": {
        "colab": {
          "base_uri": "https://localhost:8080/"
        },
        "id": "SzWEA59CS6Ty",
        "outputId": "ff3978b8-ad2b-4069-fe41-30343e29dcf7"
      },
      "execution_count": 46,
      "outputs": [
        {
          "output_type": "stream",
          "name": "stdout",
          "text": [
            "     X  Y month  day  FFMC    DMC     DC   ISI  temp  RH  wind  rain   area\n",
            "0    7  5   mar  fri  86.2   26.2   94.3   5.1   8.2  51   6.7   0.0   0.00\n",
            "1    7  4   oct  tue  90.6   35.4  669.1   6.7  18.0  33   0.9   0.0   0.00\n",
            "2    7  4   oct  sat  90.6   43.7  686.9   6.7  14.6  33   1.3   0.0   0.00\n",
            "3    8  6   mar  fri  91.7   33.3   77.5   9.0   8.3  97   4.0   0.2   0.00\n",
            "4    8  6   mar  sun  89.3   51.3  102.2   9.6  11.4  99   1.8   0.0   0.00\n",
            "..  .. ..   ...  ...   ...    ...    ...   ...   ...  ..   ...   ...    ...\n",
            "512  4  3   aug  sun  81.6   56.7  665.6   1.9  27.8  32   2.7   0.0   6.44\n",
            "513  2  4   aug  sun  81.6   56.7  665.6   1.9  21.9  71   5.8   0.0  54.29\n",
            "514  7  4   aug  sun  81.6   56.7  665.6   1.9  21.2  70   6.7   0.0  11.16\n",
            "515  1  4   aug  sat  94.4  146.0  614.7  11.3  25.6  42   4.0   0.0   0.00\n",
            "516  6  3   nov  tue  79.5    3.0  106.7   1.1  11.8  31   4.5   0.0   0.00\n",
            "\n",
            "[517 rows x 13 columns]\n"
          ]
        }
      ]
    },
    {
      "cell_type": "code",
      "source": [
        "#drop irrelevant data such as day and month\n",
        "wildfire_extent= wildfire_extent.drop(['X','Y','day', 'month'], axis=1)\n",
        "print(wildfire_extent)"
      ],
      "metadata": {
        "colab": {
          "base_uri": "https://localhost:8080/"
        },
        "id": "LneAdQy0S6XX",
        "outputId": "b0fd4177-7f3c-4dbf-fe33-4ee12a4260f1"
      },
      "execution_count": 47,
      "outputs": [
        {
          "output_type": "stream",
          "name": "stdout",
          "text": [
            "     FFMC    DMC     DC   ISI  temp  RH  wind  rain   area\n",
            "0    86.2   26.2   94.3   5.1   8.2  51   6.7   0.0   0.00\n",
            "1    90.6   35.4  669.1   6.7  18.0  33   0.9   0.0   0.00\n",
            "2    90.6   43.7  686.9   6.7  14.6  33   1.3   0.0   0.00\n",
            "3    91.7   33.3   77.5   9.0   8.3  97   4.0   0.2   0.00\n",
            "4    89.3   51.3  102.2   9.6  11.4  99   1.8   0.0   0.00\n",
            "..    ...    ...    ...   ...   ...  ..   ...   ...    ...\n",
            "512  81.6   56.7  665.6   1.9  27.8  32   2.7   0.0   6.44\n",
            "513  81.6   56.7  665.6   1.9  21.9  71   5.8   0.0  54.29\n",
            "514  81.6   56.7  665.6   1.9  21.2  70   6.7   0.0  11.16\n",
            "515  94.4  146.0  614.7  11.3  25.6  42   4.0   0.0   0.00\n",
            "516  79.5    3.0  106.7   1.1  11.8  31   4.5   0.0   0.00\n",
            "\n",
            "[517 rows x 9 columns]\n"
          ]
        }
      ]
    },
    {
      "cell_type": "code",
      "source": [
        "#divide the data into features and target variable\n",
        "X = wildfire_extent.drop('area', axis=1)  # Features\n",
        "y = wildfire_extent['area']  # Target variable"
      ],
      "metadata": {
        "id": "_9Q1W3__UEIt"
      },
      "execution_count": 48,
      "outputs": []
    },
    {
      "cell_type": "code",
      "source": [
        "#divide the data into test data and train data being test data holding 20% and train data holding 80%\n",
        "X_train, X_test, y_train, y_test = train_test_split(X, y, test_size=0.2, random_state=42)"
      ],
      "metadata": {
        "id": "EK_tozIoUEbw"
      },
      "execution_count": 49,
      "outputs": []
    },
    {
      "cell_type": "code",
      "source": [
        "#apply the random forest regressor\n",
        "\n",
        "rf_model = RandomForestRegressor(n_estimators=100, random_state=42)\n",
        "rf_model.fit(X_train, y_train)"
      ],
      "metadata": {
        "colab": {
          "base_uri": "https://localhost:8080/",
          "height": 74
        },
        "id": "yRLYAk7BVMrU",
        "outputId": "27f0f2d7-2e6f-48a1-98f6-2f84b5b68b88"
      },
      "execution_count": 50,
      "outputs": [
        {
          "output_type": "execute_result",
          "data": {
            "text/plain": [
              "RandomForestRegressor(random_state=42)"
            ],
            "text/html": [
              "<style>#sk-container-id-2 {color: black;background-color: white;}#sk-container-id-2 pre{padding: 0;}#sk-container-id-2 div.sk-toggleable {background-color: white;}#sk-container-id-2 label.sk-toggleable__label {cursor: pointer;display: block;width: 100%;margin-bottom: 0;padding: 0.3em;box-sizing: border-box;text-align: center;}#sk-container-id-2 label.sk-toggleable__label-arrow:before {content: \"▸\";float: left;margin-right: 0.25em;color: #696969;}#sk-container-id-2 label.sk-toggleable__label-arrow:hover:before {color: black;}#sk-container-id-2 div.sk-estimator:hover label.sk-toggleable__label-arrow:before {color: black;}#sk-container-id-2 div.sk-toggleable__content {max-height: 0;max-width: 0;overflow: hidden;text-align: left;background-color: #f0f8ff;}#sk-container-id-2 div.sk-toggleable__content pre {margin: 0.2em;color: black;border-radius: 0.25em;background-color: #f0f8ff;}#sk-container-id-2 input.sk-toggleable__control:checked~div.sk-toggleable__content {max-height: 200px;max-width: 100%;overflow: auto;}#sk-container-id-2 input.sk-toggleable__control:checked~label.sk-toggleable__label-arrow:before {content: \"▾\";}#sk-container-id-2 div.sk-estimator input.sk-toggleable__control:checked~label.sk-toggleable__label {background-color: #d4ebff;}#sk-container-id-2 div.sk-label input.sk-toggleable__control:checked~label.sk-toggleable__label {background-color: #d4ebff;}#sk-container-id-2 input.sk-hidden--visually {border: 0;clip: rect(1px 1px 1px 1px);clip: rect(1px, 1px, 1px, 1px);height: 1px;margin: -1px;overflow: hidden;padding: 0;position: absolute;width: 1px;}#sk-container-id-2 div.sk-estimator {font-family: monospace;background-color: #f0f8ff;border: 1px dotted black;border-radius: 0.25em;box-sizing: border-box;margin-bottom: 0.5em;}#sk-container-id-2 div.sk-estimator:hover {background-color: #d4ebff;}#sk-container-id-2 div.sk-parallel-item::after {content: \"\";width: 100%;border-bottom: 1px solid gray;flex-grow: 1;}#sk-container-id-2 div.sk-label:hover label.sk-toggleable__label {background-color: #d4ebff;}#sk-container-id-2 div.sk-serial::before {content: \"\";position: absolute;border-left: 1px solid gray;box-sizing: border-box;top: 0;bottom: 0;left: 50%;z-index: 0;}#sk-container-id-2 div.sk-serial {display: flex;flex-direction: column;align-items: center;background-color: white;padding-right: 0.2em;padding-left: 0.2em;position: relative;}#sk-container-id-2 div.sk-item {position: relative;z-index: 1;}#sk-container-id-2 div.sk-parallel {display: flex;align-items: stretch;justify-content: center;background-color: white;position: relative;}#sk-container-id-2 div.sk-item::before, #sk-container-id-2 div.sk-parallel-item::before {content: \"\";position: absolute;border-left: 1px solid gray;box-sizing: border-box;top: 0;bottom: 0;left: 50%;z-index: -1;}#sk-container-id-2 div.sk-parallel-item {display: flex;flex-direction: column;z-index: 1;position: relative;background-color: white;}#sk-container-id-2 div.sk-parallel-item:first-child::after {align-self: flex-end;width: 50%;}#sk-container-id-2 div.sk-parallel-item:last-child::after {align-self: flex-start;width: 50%;}#sk-container-id-2 div.sk-parallel-item:only-child::after {width: 0;}#sk-container-id-2 div.sk-dashed-wrapped {border: 1px dashed gray;margin: 0 0.4em 0.5em 0.4em;box-sizing: border-box;padding-bottom: 0.4em;background-color: white;}#sk-container-id-2 div.sk-label label {font-family: monospace;font-weight: bold;display: inline-block;line-height: 1.2em;}#sk-container-id-2 div.sk-label-container {text-align: center;}#sk-container-id-2 div.sk-container {/* jupyter's `normalize.less` sets `[hidden] { display: none; }` but bootstrap.min.css set `[hidden] { display: none !important; }` so we also need the `!important` here to be able to override the default hidden behavior on the sphinx rendered scikit-learn.org. See: https://github.com/scikit-learn/scikit-learn/issues/21755 */display: inline-block !important;position: relative;}#sk-container-id-2 div.sk-text-repr-fallback {display: none;}</style><div id=\"sk-container-id-2\" class=\"sk-top-container\"><div class=\"sk-text-repr-fallback\"><pre>RandomForestRegressor(random_state=42)</pre><b>In a Jupyter environment, please rerun this cell to show the HTML representation or trust the notebook. <br />On GitHub, the HTML representation is unable to render, please try loading this page with nbviewer.org.</b></div><div class=\"sk-container\" hidden><div class=\"sk-item\"><div class=\"sk-estimator sk-toggleable\"><input class=\"sk-toggleable__control sk-hidden--visually\" id=\"sk-estimator-id-2\" type=\"checkbox\" checked><label for=\"sk-estimator-id-2\" class=\"sk-toggleable__label sk-toggleable__label-arrow\">RandomForestRegressor</label><div class=\"sk-toggleable__content\"><pre>RandomForestRegressor(random_state=42)</pre></div></div></div></div></div>"
            ]
          },
          "metadata": {},
          "execution_count": 50
        }
      ]
    },
    {
      "cell_type": "code",
      "source": [
        "# Making predictions on the test set\n",
        "predictions = rf_model.predict(X_test)\n",
        "\n",
        "# Evaluating the model\n",
        "mse = mean_squared_error(y_test, predictions)\n",
        "mae = mean_absolute_error(y_test, predictions)\n"
      ],
      "metadata": {
        "id": "eqyUJzSiVOll"
      },
      "execution_count": 51,
      "outputs": []
    },
    {
      "cell_type": "code",
      "source": [
        "print(\"Mean Squared Error:\", mse)\n",
        "print(\"Mean Absolute Error:\", mae)"
      ],
      "metadata": {
        "colab": {
          "base_uri": "https://localhost:8080/"
        },
        "id": "-QX5QZw-VOpD",
        "outputId": "1a65e232-346b-4460-f9ad-48eed75886f0"
      },
      "execution_count": 52,
      "outputs": [
        {
          "output_type": "stream",
          "name": "stdout",
          "text": [
            "Mean Squared Error: 11670.271881558545\n",
            "Mean Absolute Error: 25.76354094093406\n"
          ]
        }
      ]
    },
    {
      "cell_type": "code",
      "source": [
        "#here we can take the temperature,relative humidity and windspeed as input from frontend indicating the weather conditions of Uttarakhand\n",
        "#and predict the area in hectares that will be affected by current weather conditions so we can make the timely alerts to various stakeholders\n",
        "#example 1\n",
        "new_values = {\n",
        "\n",
        "    'FFMC': [92], # Example: Fine Fuel Moisture Code\n",
        "    'DMC': [20],  # Example: Duff Moisture Code\n",
        "    'DC': [90],   # Example: Drought Code\n",
        "    'ISI': [8],   # Example: Initial Spread Index\n",
        "    'temp': [50], # Example: temperature in Celsius\n",
        "    'RH': [50],   # Example: relative humidity in percentage\n",
        "    'wind': [9.268],  # Example: wind speed in km/h\n",
        "    'rain': [0],  # Example: outside rain in mm/m^2\n",
        "}"
      ],
      "metadata": {
        "id": "wAgnih6LVa6s"
      },
      "execution_count": 69,
      "outputs": []
    },
    {
      "cell_type": "code",
      "source": [
        "# Convert the input values into a DataFrame\n",
        "new_data = pd.DataFrame(new_values)\n",
        "\n",
        "# Make predictions on the new data\n",
        "wildfire_predicted_area = rf_model.predict(new_data)\n",
        "\n",
        "print(\"Predicted area affected by forest fire:\", wildfire_predicted_area)"
      ],
      "metadata": {
        "colab": {
          "base_uri": "https://localhost:8080/"
        },
        "id": "342e2hwDVa_X",
        "outputId": "91a408da-a1f1-433d-eda8-e33402e196a4"
      },
      "execution_count": 68,
      "outputs": [
        {
          "output_type": "stream",
          "name": "stdout",
          "text": [
            "Predicted area affected by forest fire: [32.89285]\n"
          ]
        }
      ]
    },
    {
      "cell_type": "code",
      "source": [
        "#here we can take the temperature,relative humidity and windspeed as input from frontend indicating the weather conditions of Uttarakhand\n",
        "#and predict the area in hectares that will be affected by current weather conditions so we can make the timely alerts to various stakeholders\n",
        "#example 2\n",
        "new_values1 = {\n",
        "    'FFMC': [92], # Example: Fine Fuel Moisture Code\n",
        "    'DMC': [20],  # Example: Duff Moisture Code\n",
        "    'DC': [90],   # Example: Drought Code\n",
        "    'ISI': [8],   # Example: Initial Spread Index\n",
        "    'temp': [30], # Example: temperature in Celsius\n",
        "    'RH': [20],   # Example: relative humidity in percentage\n",
        "    'wind': [25], # Example: wind speed in km/h\n",
        "    'rain': [0],  # Example: outside rain in mm/m^2\n",
        "}\n"
      ],
      "metadata": {
        "id": "mYZmI3UCgxwL"
      },
      "execution_count": 63,
      "outputs": []
    },
    {
      "cell_type": "code",
      "source": [
        "# Convert the input values into a DataFrame\n",
        "new_Data = pd.DataFrame(new_values1)\n",
        "\n",
        "# Make predictions on the new data\n",
        "wildfire_predicted_area2 = rf_model.predict(new_Data)\n",
        "\n",
        "print(\"Predicted area affected by forest fire:\", wildfire_predicted_area2)"
      ],
      "metadata": {
        "colab": {
          "base_uri": "https://localhost:8080/"
        },
        "id": "Kb5KUYUVhAia",
        "outputId": "490a235d-71a6-4006-b902-6bae5771b966"
      },
      "execution_count": 64,
      "outputs": [
        {
          "output_type": "stream",
          "name": "stdout",
          "text": [
            "Predicted area affected by forest fire: [28.011025]\n"
          ]
        }
      ]
    }
  ]
}